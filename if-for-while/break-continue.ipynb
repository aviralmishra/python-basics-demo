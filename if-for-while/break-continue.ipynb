{
 "cells": [
  {
   "cell_type": "code",
   "execution_count": 4,
   "id": "63ecd024-475d-4000-ad0e-1bbc7a93fd38",
   "metadata": {},
   "outputs": [
    {
     "name": "stdin",
     "output_type": "stream",
     "text": [
      "Type a letter or 'X' to exit r\n"
     ]
    },
    {
     "name": "stdout",
     "output_type": "stream",
     "text": [
      "You typed r\n"
     ]
    },
    {
     "name": "stdin",
     "output_type": "stream",
     "text": [
      "Type a letter or 'X' to exit X\n"
     ]
    },
    {
     "name": "stdout",
     "output_type": "stream",
     "text": [
      "Exiting...\n"
     ]
    }
   ],
   "source": [
    "continue_until_exit = True\n",
    "\n",
    "while continue_until_exit:\n",
    "    letter = input('Type a letter or \\'X\\' to exit')\n",
    "    \n",
    "    if letter == 'X':\n",
    "        print('Exiting...')\n",
    "        break\n",
    "\n",
    "    print('You typed', letter)\n"
   ]
  },
  {
   "cell_type": "code",
   "execution_count": 6,
   "id": "d804e775-477d-46a8-b961-781407040a1d",
   "metadata": {},
   "outputs": [
    {
     "name": "stdout",
     "output_type": "stream",
     "text": [
      "h is not a vowel\n",
      "e is a vowel\n",
      "l is not a vowel\n",
      "l is not a vowel\n",
      "o is a vowel\n"
     ]
    }
   ],
   "source": [
    "vowels = 'aeiou'\n",
    "greeting = 'hello'\n",
    "\n",
    "for ch in greeting:\n",
    "    if ch in vowels:\n",
    "        print(ch, 'is a vowel')\n",
    "    else:\n",
    "        print(ch, 'is not a vowel')"
   ]
  },
  {
   "cell_type": "code",
   "execution_count": 7,
   "id": "43cbf567-d0b3-4dab-a79b-4804b93cf55a",
   "metadata": {},
   "outputs": [
    {
     "name": "stdout",
     "output_type": "stream",
     "text": [
      "2\n",
      "4\n",
      "6\n",
      "8\n",
      "10\n"
     ]
    }
   ],
   "source": [
    "for num in range(1, 11):\n",
    "    if num % 2 == 0:\n",
    "        print(num)\n",
    "    else:\n",
    "        continue"
   ]
  },
  {
   "cell_type": "code",
   "execution_count": 8,
   "id": "9d9cc6a1-b2ad-42be-afe5-342b335ca690",
   "metadata": {},
   "outputs": [
    {
     "name": "stdout",
     "output_type": "stream",
     "text": [
      "2\n",
      "4\n",
      "6\n",
      "8\n",
      "10\n"
     ]
    }
   ],
   "source": [
    "for num in range(1, 11):\n",
    "    if num % 2 == 0:\n",
    "        print(num)\n",
    "    else:\n",
    "        pass"
   ]
  },
  {
   "cell_type": "code",
   "execution_count": 9,
   "id": "946369da-b188-453c-b751-030554a1b73b",
   "metadata": {},
   "outputs": [
    {
     "name": "stdout",
     "output_type": "stream",
     "text": [
      "1 squared is  1\n",
      "2 squared is  4\n",
      "3 squared is  9\n",
      "4 squared is  16\n",
      "5 squared is  25\n",
      "6 squared is  36\n",
      "7 squared is  49\n",
      "8 squared is  64\n",
      "9 squared is  81\n",
      "10 squared is  100\n"
     ]
    }
   ],
   "source": [
    "for i in range(1, 11):\n",
    "    for j in range(1, 11):\n",
    "        if i == j:\n",
    "            print(i, 'squared is ', i * j)"
   ]
  },
  {
   "cell_type": "code",
   "execution_count": 14,
   "id": "4a3b1ff2-082f-4b84-a7a2-ee657f06ba1e",
   "metadata": {},
   "outputs": [
    {
     "name": "stdout",
     "output_type": "stream",
     "text": [
      "2\n",
      "3\n",
      "4\n",
      "all done.\n"
     ]
    }
   ],
   "source": [
    "i = 2\n",
    "\n",
    "while i < 5:\n",
    "    print(i)\n",
    "    i += 1\n",
    "else:\n",
    "    print('all done.') # will run exactly once"
   ]
  },
  {
   "cell_type": "code",
   "execution_count": 16,
   "id": "19875e46-861c-46f7-80dc-6633c158ac81",
   "metadata": {},
   "outputs": [
    {
     "name": "stdin",
     "output_type": "stream",
     "text": [
      "When was Python 1.0 released? 2000\n"
     ]
    },
    {
     "name": "stdout",
     "output_type": "stream",
     "text": [
      "It was earlier than that!\n"
     ]
    },
    {
     "name": "stdin",
     "output_type": "stream",
     "text": [
      "When was Python 1.0 released? 1990\n"
     ]
    },
    {
     "name": "stdout",
     "output_type": "stream",
     "text": [
      "It was later than that!\n"
     ]
    },
    {
     "name": "stdin",
     "output_type": "stream",
     "text": [
      "When was Python 1.0 released? 1994\n"
     ]
    },
    {
     "name": "stdout",
     "output_type": "stream",
     "text": [
      "Correct!\n"
     ]
    }
   ],
   "source": [
    "release_year = 1994\n",
    "\n",
    "\n",
    "while True:\n",
    "    year = int(input('When was Python 1.0 released? '))\n",
    "    \n",
    "    if year > release_year:\n",
    "        print('It was earlier than that!')\n",
    "    elif year < release_year:\n",
    "        print('It was later than that!')\n",
    "    else:\n",
    "        print('Correct!')\n",
    "        break;"
   ]
  },
  {
   "cell_type": "code",
   "execution_count": 17,
   "id": "ddd5cdff-10d8-4bc7-b863-10617948a4ac",
   "metadata": {},
   "outputs": [
    {
     "ename": "SyntaxError",
     "evalue": "invalid syntax (349642382.py, line 6)",
     "output_type": "error",
     "traceback": [
      "\u001b[0;36m  Cell \u001b[0;32mIn[17], line 6\u001b[0;36m\u001b[0m\n\u001b[0;31m    else:\u001b[0m\n\u001b[0m    ^\u001b[0m\n\u001b[0;31mSyntaxError\u001b[0m\u001b[0;31m:\u001b[0m invalid syntax\n"
     ]
    }
   ],
   "source": [
    "choice = int(input('Pick a number: '))\n",
    "if choice == 3:\n",
    "    print('Good choice')\n",
    "else:\n",
    "    print('You could have chosen better')\n",
    "else:\n",
    "    print('No luck this time')"
   ]
  },
  {
   "cell_type": "code",
   "execution_count": null,
   "id": "3a96aff3-aa6a-4433-8810-f09696d32d3e",
   "metadata": {},
   "outputs": [],
   "source": []
  }
 ],
 "metadata": {
  "kernelspec": {
   "display_name": "Python [conda env:base] *",
   "language": "python",
   "name": "conda-base-py"
  },
  "language_info": {
   "codemirror_mode": {
    "name": "ipython",
    "version": 3
   },
   "file_extension": ".py",
   "mimetype": "text/x-python",
   "name": "python",
   "nbconvert_exporter": "python",
   "pygments_lexer": "ipython3",
   "version": "3.13.5"
  }
 },
 "nbformat": 4,
 "nbformat_minor": 5
}
