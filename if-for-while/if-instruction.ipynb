{
 "cells": [
  {
   "cell_type": "code",
   "execution_count": 6,
   "id": "2fc7f439-c93b-4275-8193-ae535683bee8",
   "metadata": {},
   "outputs": [
    {
     "name": "stdin",
     "output_type": "stream",
     "text": [
      "What's your age? 3\n"
     ]
    },
    {
     "name": "stdout",
     "output_type": "stream",
     "text": [
      "You're not allowed to vote.\n"
     ]
    }
   ],
   "source": [
    "age = int(input('What\\'s your age?'))\n",
    "\n",
    "if age > 18:\n",
    "    print('You can vote')\n",
    "elif age == 18:\n",
    "    print('You can enrol to vote')\n",
    "else:\n",
    "    print('You\\'re not allowed to vote.')\n"
   ]
  },
  {
   "cell_type": "code",
   "execution_count": 9,
   "id": "63ecd024-475d-4000-ad0e-1bbc7a93fd38",
   "metadata": {},
   "outputs": [
    {
     "name": "stdin",
     "output_type": "stream",
     "text": [
      "What's your age? 33\n"
     ]
    },
    {
     "name": "stdout",
     "output_type": "stream",
     "text": [
      "You can vote\n"
     ]
    }
   ],
   "source": [
    "age = int(input('What\\'s your age?'))\n",
    "\n",
    "if age > 18:\n",
    "    print('You can vote')\n",
    "elif age >= 16 and age <= 18:\n",
    "    print('You can enrol to vote')\n",
    "else:\n",
    "    print('You\\'re not allowed to vote.')\n"
   ]
  },
  {
   "cell_type": "code",
   "execution_count": 13,
   "id": "4599f30d-4e1e-42ee-a5f5-252e90f55ff1",
   "metadata": {},
   "outputs": [
    {
     "name": "stdin",
     "output_type": "stream",
     "text": [
      "What's your age? 89\n"
     ]
    },
    {
     "name": "stdout",
     "output_type": "stream",
     "text": [
      "You're allowed to vote.\n"
     ]
    }
   ],
   "source": [
    "age = int(input('What\\'s your age?'))\n",
    "\n",
    "if not(age > 18):\n",
    "    print('You can not vote')\n",
    "else:\n",
    "    print('You\\'re allowed to vote.')\n"
   ]
  },
  {
   "cell_type": "code",
   "execution_count": 15,
   "id": "3347e9e5-2d5a-4a84-8603-3df740627df9",
   "metadata": {},
   "outputs": [
    {
     "name": "stdin",
     "output_type": "stream",
     "text": [
      "What's your country. If Australia, type oz? oz\n",
      "What's your age? 22\n"
     ]
    },
    {
     "name": "stdout",
     "output_type": "stream",
     "text": [
      "You can vote\n"
     ]
    }
   ],
   "source": [
    "# logical operator priority order - not, and, or\n",
    "country = input('What\\'s your country. If Australia, type oz?')\n",
    "age = int(input('What\\'s your age?'))\n",
    "\n",
    "if not country == 'oz' and age > 18:\n",
    "    print('You can not vote')\n",
    "elif country == 'oz' and age > 18:\n",
    "    print('You can vote')    \n"
   ]
  },
  {
   "cell_type": "code",
   "execution_count": null,
   "id": "a0fb1390-2039-4de3-be85-a9705c5de46f",
   "metadata": {},
   "outputs": [],
   "source": [
    "days = int(input('How many days ago have you purchased the item? '))\n",
    "used = input('Have you used the item at all [y/n]? ')\n",
    "broken = input('Has the item broken down on its own [y/n]? ')\n",
    "\n",
    "if(is_broken == 'y' or (purchase_days_ago <= 10 and is_used == 'n')):\n",
    "    print('You can get a refund.')\n",
    "else:\n",
    "    print('You cannot get a refund.')"
   ]
  }
 ],
 "metadata": {
  "kernelspec": {
   "display_name": "Python [conda env:base] *",
   "language": "python",
   "name": "conda-base-py"
  },
  "language_info": {
   "codemirror_mode": {
    "name": "ipython",
    "version": 3
   },
   "file_extension": ".py",
   "mimetype": "text/x-python",
   "name": "python",
   "nbconvert_exporter": "python",
   "pygments_lexer": "ipython3",
   "version": "3.13.5"
  }
 },
 "nbformat": 4,
 "nbformat_minor": 5
}
