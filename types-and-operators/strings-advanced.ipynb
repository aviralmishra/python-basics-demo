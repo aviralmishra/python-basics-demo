{
 "cells": [
  {
   "cell_type": "code",
   "execution_count": 1,
   "id": "ac2af26a-5ae9-4bed-a3e7-21a5bfb376c3",
   "metadata": {},
   "outputs": [
    {
     "data": {
      "text/plain": [
       "'hel'"
      ]
     },
     "execution_count": 1,
     "metadata": {},
     "output_type": "execute_result"
    }
   ],
   "source": [
    "'hello'[0:-2]"
   ]
  },
  {
   "cell_type": "code",
   "execution_count": 2,
   "id": "3d5a65c8-5c18-4dc6-8b3a-590ecd71af1e",
   "metadata": {},
   "outputs": [
    {
     "name": "stdout",
     "output_type": "stream",
     "text": [
      "65\n",
      "97\n"
     ]
    }
   ],
   "source": [
    "# char to code\n",
    "print(ord('A'))\n",
    "print(ord('a'))"
   ]
  },
  {
   "cell_type": "code",
   "execution_count": 3,
   "id": "c7e64b74-2f8e-495b-813f-475ecb05c902",
   "metadata": {},
   "outputs": [
    {
     "data": {
      "text/plain": [
       "'A'"
      ]
     },
     "execution_count": 3,
     "metadata": {},
     "output_type": "execute_result"
    }
   ],
   "source": [
    "# code to char\n",
    "chr(65)"
   ]
  },
  {
   "cell_type": "code",
   "execution_count": 4,
   "id": "38f2d0e7-d825-49b8-8a18-673f676af3be",
   "metadata": {},
   "outputs": [
    {
     "name": "stdout",
     "output_type": "stream",
     "text": [
      "11\n"
     ]
    }
   ],
   "source": [
    "# multi line strings\n",
    "multiline = '''\n",
    "    hello\n",
    "'''\n",
    "\n",
    "print(len(multiline))"
   ]
  },
  {
   "cell_type": "code",
   "execution_count": 5,
   "id": "e0ded250-0732-40a9-b7ff-c5886a0359dc",
   "metadata": {},
   "outputs": [
    {
     "name": "stdout",
     "output_type": "stream",
     "text": [
      "hello world!\n"
     ]
    }
   ],
   "source": [
    "# concat\n",
    "print('hello' + ' world!')"
   ]
  },
  {
   "cell_type": "code",
   "execution_count": 6,
   "id": "f7455c27-7a66-4a85-be31-87ed725e5c6f",
   "metadata": {},
   "outputs": [
    {
     "name": "stdout",
     "output_type": "stream",
     "text": [
      "hi hi hi hi hi \n"
     ]
    }
   ],
   "source": [
    "# repeat\n",
    "print('hi ' * 5)"
   ]
  },
  {
   "cell_type": "code",
   "execution_count": 7,
   "id": "2ea29c2f-f6b2-4f2a-9236-30d19fca6352",
   "metadata": {},
   "outputs": [
    {
     "name": "stdout",
     "output_type": "stream",
     "text": [
      "h | e | l | l | o |   | w | o | r | l | d | "
     ]
    }
   ],
   "source": [
    "# loop\n",
    "str = 'hello world'\n",
    "for char in str:\n",
    "    print(char, end = ' | ')"
   ]
  },
  {
   "cell_type": "code",
   "execution_count": 8,
   "id": "deb173d6-f2bb-4127-9948-1d5dfd357b0b",
   "metadata": {},
   "outputs": [
    {
     "name": "stdout",
     "output_type": "stream",
     "text": [
      "!\n"
     ]
    }
   ],
   "source": [
    "# smallest item in an iterable - str as per ASCII code\n",
    "print(min('helloworld!'))"
   ]
  },
  {
   "cell_type": "code",
   "execution_count": 9,
   "id": "389bad5c-9700-49b3-9374-37ebd5c6074e",
   "metadata": {},
   "outputs": [
    {
     "data": {
      "text/plain": [
       "'good morning'"
      ]
     },
     "execution_count": 9,
     "metadata": {},
     "output_type": "execute_result"
    }
   ],
   "source": [
    "min('hello', 'world', 'good morning')"
   ]
  },
  {
   "cell_type": "code",
   "execution_count": 10,
   "id": "e5c7d2f5-2457-4353-a83d-50402b256067",
   "metadata": {},
   "outputs": [
    {
     "name": "stdout",
     "output_type": "stream",
     "text": [
      "w\n"
     ]
    }
   ],
   "source": [
    "# largest item in an iterable - str as per ASCII code\n",
    "print(max('helloworld!'))"
   ]
  },
  {
   "cell_type": "code",
   "execution_count": 11,
   "id": "9ec05bf9-a627-4122-96bd-a82b5190ba63",
   "metadata": {},
   "outputs": [
    {
     "name": "stdout",
     "output_type": "stream",
     "text": [
      "1\n",
      "1\n",
      "7\n",
      "-1\n",
      "7\n",
      "7\n"
     ]
    }
   ],
   "source": [
    "# search\n",
    "str = 'hello hello!'\n",
    "print(str.index('el'))\n",
    "print(str.find('el')) # first occurrence\n",
    "print(str.rfind('el')) # last occurrence\n",
    "\n",
    "print(str.find('w')) # not available so -1 / index fails for this\n",
    "print(str.find('el', 5)) # start search from index 5\n",
    "print(str.find('el', 5, 9)) # start search from index 5 and end before 10th\n"
   ]
  },
  {
   "cell_type": "code",
   "execution_count": 12,
   "id": "80de321d-ecdf-434d-bae0-137d052933a5",
   "metadata": {},
   "outputs": [
    {
     "name": "stdout",
     "output_type": "stream",
     "text": [
      "True\n",
      "True\n",
      "False\n"
     ]
    }
   ],
   "source": [
    "print('hello'.isalnum())\n",
    "print('hello33'.isalnum())\n",
    "print('hello_'.isalnum())"
   ]
  },
  {
   "cell_type": "code",
   "execution_count": 13,
   "id": "f0b5faa1-526a-47fb-be8a-0995eb821a59",
   "metadata": {},
   "outputs": [
    {
     "name": "stdout",
     "output_type": "stream",
     "text": [
      "False\n",
      "True\n"
     ]
    }
   ],
   "source": [
    "print('hello'.isdigit())\n",
    "print('33'.isdigit())"
   ]
  },
  {
   "cell_type": "code",
   "execution_count": 14,
   "id": "c00866e1-b366-4a6a-b4a2-b526a5dc3d3b",
   "metadata": {},
   "outputs": [
    {
     "name": "stdout",
     "output_type": "stream",
     "text": [
      "False\n",
      "True\n"
     ]
    }
   ],
   "source": [
    "print('hello'.isupper())\n",
    "print('hello'.islower())"
   ]
  },
  {
   "cell_type": "code",
   "execution_count": 15,
   "id": "a4bfc01f-5543-4a28-ada8-288181212e73",
   "metadata": {},
   "outputs": [
    {
     "name": "stdout",
     "output_type": "stream",
     "text": [
      "hellobeautifulworld\n",
      "['hello', 'beautiful', 'world']\n",
      "['hello', ' beautiful! world']\n"
     ]
    }
   ],
   "source": [
    "# join / split / sort\n",
    "print(''.join(['hello', 'beautiful','world']))\n",
    "print('hello beautiful world'.split())\n",
    "print('hello, beautiful! world'.split(','))"
   ]
  },
  {
   "cell_type": "code",
   "execution_count": 16,
   "id": "00e7af1e-ba0a-4122-950e-eaa32a7f118a",
   "metadata": {},
   "outputs": [
    {
     "name": "stdout",
     "output_type": "stream",
     "text": [
      "['Ben', 'David', 'John', 'Mark']\n",
      "['Ben', 'David', 'John', 'Mark']\n"
     ]
    }
   ],
   "source": [
    "users = ['John', 'Ben', 'Mark', 'David']\n",
    "print(sorted(users))\n",
    "\n",
    "users.sort()\n",
    "print(users)"
   ]
  },
  {
   "cell_type": "code",
   "execution_count": 17,
   "id": "3699f6af-1f9f-4893-a29a-596676f628b5",
   "metadata": {},
   "outputs": [
    {
     "name": "stdout",
     "output_type": "stream",
     "text": [
      "True\n",
      "True\n",
      "False\n",
      "False\n",
      "True\n",
      "True\n",
      "False\n"
     ]
    }
   ],
   "source": [
    "# comparison\n",
    "print('' == '')\n",
    "print('hello' == 'hello')\n",
    "print('hello' == 'world')\n",
    "print('hello' >= 'world')\n",
    "print('hello' <= 'world')\n",
    "print('hello' <= 'hi')\n",
    "print('20' >= '8')"
   ]
  },
  {
   "cell_type": "code",
   "execution_count": null,
   "id": "e9542d62-5dda-48ac-a851-9470e8e54c90",
   "metadata": {},
   "outputs": [],
   "source": []
  },
  {
   "cell_type": "code",
   "execution_count": null,
   "id": "85c89d1c-3083-4ff5-b08f-3ded94ee0d1f",
   "metadata": {},
   "outputs": [],
   "source": []
  },
  {
   "cell_type": "code",
   "execution_count": 18,
   "id": "ed8e527f-572c-40cd-8cb1-176b63f19318",
   "metadata": {},
   "outputs": [
    {
     "name": "stdout",
     "output_type": "stream",
     "text": [
      "unsuccessful\n"
     ]
    }
   ],
   "source": [
    "quote = '''\n",
    "    Nothing in the world can take the place of persistence. \n",
    "    Talent will not; nothing is more common than unsuccessful men with talent. \n",
    "    Genius will not; unrewarded genius is almost a proverb. \n",
    "    Education will not; the world is full of educated derelicts. \n",
    "    The slogan ’Press On’ has solved and always will solve the problems of the human race.\n",
    "'''\n",
    "\n",
    "def get_longest_word(str):\n",
    "    longest_word = ''\n",
    "    sentence = str.replace(' ', ',').replace('\\n', ',').replace('.', ',')\n",
    "    parts = sentence.split(',')\n",
    "    \n",
    "    for word in sentence.split(','):\n",
    "        if len(word) > len(longest_word):\n",
    "            longest_word = word\n",
    "            \n",
    "    return longest_word\n",
    "\n",
    "print(get_longest_word(quote))"
   ]
  },
  {
   "cell_type": "code",
   "execution_count": 19,
   "id": "b6253599-988c-4bc8-9a6d-4cb3a515c9c9",
   "metadata": {},
   "outputs": [
    {
     "name": "stdout",
     "output_type": "stream",
     "text": [
      "1\n"
     ]
    }
   ],
   "source": [
    "print(len('\\'\\\\') - len('\\n'))"
   ]
  },
  {
   "cell_type": "code",
   "execution_count": null,
   "id": "a72fb538-9df0-4d31-8947-37bbed0e58c3",
   "metadata": {},
   "outputs": [],
   "source": []
  }
 ],
 "metadata": {
  "kernelspec": {
   "display_name": "Python [conda env:base] *",
   "language": "python",
   "name": "conda-base-py"
  },
  "language_info": {
   "codemirror_mode": {
    "name": "ipython",
    "version": 3
   },
   "file_extension": ".py",
   "mimetype": "text/x-python",
   "name": "python",
   "nbconvert_exporter": "python",
   "pygments_lexer": "ipython3",
   "version": "3.13.5"
  }
 },
 "nbformat": 4,
 "nbformat_minor": 5
}
