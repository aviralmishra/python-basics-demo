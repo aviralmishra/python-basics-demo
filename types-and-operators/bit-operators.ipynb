{
 "cells": [
  {
   "cell_type": "code",
   "execution_count": 1,
   "id": "2fc7f439-c93b-4275-8193-ae535683bee8",
   "metadata": {},
   "outputs": [
    {
     "name": "stdout",
     "output_type": "stream",
     "text": [
      "0\n"
     ]
    }
   ],
   "source": [
    "first_bit = 1\n",
    "second_bit = 0\n",
    "\n",
    "print(first_bit & second_bit) # and operator prints 0"
   ]
  },
  {
   "cell_type": "code",
   "execution_count": 2,
   "id": "63ecd024-475d-4000-ad0e-1bbc7a93fd38",
   "metadata": {},
   "outputs": [
    {
     "name": "stdout",
     "output_type": "stream",
     "text": [
      "1\n"
     ]
    }
   ],
   "source": [
    "first_bit = 1\n",
    "second_bit = 0\n",
    "\n",
    "print(first_bit | second_bit) # or operator prints 1"
   ]
  },
  {
   "cell_type": "code",
   "execution_count": 3,
   "id": "73e195ac-bd63-4832-be94-bfca6fb591e1",
   "metadata": {},
   "outputs": [
    {
     "name": "stdout",
     "output_type": "stream",
     "text": [
      "1\n"
     ]
    }
   ],
   "source": [
    "first_bit = 1\n",
    "second_bit = 0\n",
    "\n",
    "print(first_bit ^ second_bit) # caret / exculsive or operator prints 1"
   ]
  },
  {
   "cell_type": "code",
   "execution_count": 4,
   "id": "3f4bd107-e29a-4855-82d7-22943ce7d41f",
   "metadata": {},
   "outputs": [
    {
     "name": "stdout",
     "output_type": "stream",
     "text": [
      "-2\n"
     ]
    }
   ],
   "source": [
    "first_bit = 1\n",
    "\n",
    "print(~first_bit) # tilda / logical negation operator prints -2 i.e. ~x = -x - 1"
   ]
  },
  {
   "cell_type": "code",
   "execution_count": 5,
   "id": "51f44a7e-4ada-4b72-b755-e192ef257709",
   "metadata": {},
   "outputs": [
    {
     "name": "stdout",
     "output_type": "stream",
     "text": [
      "0\n"
     ]
    }
   ],
   "source": [
    "first_bit = -1\n",
    "\n",
    "print(~first_bit) # tilda / logical negation operator prints 0 i.e. ~x = -x - 1"
   ]
  },
  {
   "cell_type": "code",
   "execution_count": 9,
   "id": "b20f7761-bfb4-4b00-a9c7-2e9d20c3d999",
   "metadata": {},
   "outputs": [
    {
     "data": {
      "text/plain": [
       "96"
      ]
     },
     "execution_count": 9,
     "metadata": {},
     "output_type": "execute_result"
    }
   ],
   "source": [
    "12 << 1 # 24 # left shift bit operator - multiply by 2 to a certain power"
   ]
  },
  {
   "cell_type": "code",
   "execution_count": 10,
   "id": "93a6878b-0968-4a21-8cc5-0e812494e63b",
   "metadata": {},
   "outputs": [
    {
     "data": {
      "text/plain": [
       "48"
      ]
     },
     "execution_count": 10,
     "metadata": {},
     "output_type": "execute_result"
    }
   ],
   "source": [
    "12 << 2 # 48 # left shift bit operator"
   ]
  },
  {
   "cell_type": "code",
   "execution_count": 11,
   "id": "b43f7db4-276d-4619-9011-ae2754963d14",
   "metadata": {},
   "outputs": [
    {
     "data": {
      "text/plain": [
       "96"
      ]
     },
     "execution_count": 11,
     "metadata": {},
     "output_type": "execute_result"
    }
   ],
   "source": [
    "12 << 3 # 96 # left shift bit operator"
   ]
  },
  {
   "cell_type": "code",
   "execution_count": 12,
   "id": "85280eec-bd26-435d-a6e6-28ab8ad567ba",
   "metadata": {},
   "outputs": [
    {
     "data": {
      "text/plain": [
       "6"
      ]
     },
     "execution_count": 12,
     "metadata": {},
     "output_type": "execute_result"
    }
   ],
   "source": [
    "12 >> 1 # 6 # right shift bit operator - divide by 2 to a certain power"
   ]
  },
  {
   "cell_type": "code",
   "execution_count": 13,
   "id": "80fd8af9-fc41-4902-b73e-b12e5f7f5f37",
   "metadata": {},
   "outputs": [
    {
     "data": {
      "text/plain": [
       "3"
      ]
     },
     "execution_count": 13,
     "metadata": {},
     "output_type": "execute_result"
    }
   ],
   "source": [
    "12 >> 2 # right shift bit operator"
   ]
  },
  {
   "cell_type": "code",
   "execution_count": 14,
   "id": "f2981266-63b1-476d-800d-d53c81ae9f64",
   "metadata": {},
   "outputs": [
    {
     "data": {
      "text/plain": [
       "1"
      ]
     },
     "execution_count": 14,
     "metadata": {},
     "output_type": "execute_result"
    }
   ],
   "source": [
    "12 >> 3 # right shift bit operator"
   ]
  },
  {
   "cell_type": "code",
   "execution_count": null,
   "id": "393f99fd-d4b8-4235-8fe5-d17ffa8bd526",
   "metadata": {},
   "outputs": [],
   "source": []
  }
 ],
 "metadata": {
  "kernelspec": {
   "display_name": "Python [conda env:base] *",
   "language": "python",
   "name": "conda-base-py"
  },
  "language_info": {
   "codemirror_mode": {
    "name": "ipython",
    "version": 3
   },
   "file_extension": ".py",
   "mimetype": "text/x-python",
   "name": "python",
   "nbconvert_exporter": "python",
   "pygments_lexer": "ipython3",
   "version": "3.13.5"
  }
 },
 "nbformat": 4,
 "nbformat_minor": 5
}
