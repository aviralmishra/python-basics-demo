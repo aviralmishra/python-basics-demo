{
 "cells": [
  {
   "cell_type": "code",
   "execution_count": 4,
   "id": "2fc7f439-c93b-4275-8193-ae535683bee8",
   "metadata": {},
   "outputs": [
    {
     "name": "stdout",
     "output_type": "stream",
     "text": [
      "hi\n"
     ]
    }
   ],
   "source": [
    "message = 'hi'\n",
    "print(message)"
   ]
  },
  {
   "cell_type": "code",
   "execution_count": 1,
   "id": "63ecd024-475d-4000-ad0e-1bbc7a93fd38",
   "metadata": {},
   "outputs": [
    {
     "name": "stdout",
     "output_type": "stream",
     "text": [
      "2\n"
     ]
    }
   ],
   "source": [
    "# binary operators\n",
    "print(7 - 5)"
   ]
  },
  {
   "cell_type": "code",
   "execution_count": 2,
   "id": "f7377f75-8fca-4c67-98d6-46d234102a99",
   "metadata": {},
   "outputs": [
    {
     "name": "stdout",
     "output_type": "stream",
     "text": [
      "2\n"
     ]
    }
   ],
   "source": [
    "# unary operators\n",
    "print(+2)"
   ]
  },
  {
   "cell_type": "code",
   "execution_count": 3,
   "id": "cd4f1ecf-7a85-4285-993d-447b0d48bfea",
   "metadata": {},
   "outputs": [
    {
     "name": "stdout",
     "output_type": "stream",
     "text": [
      "-2\n"
     ]
    }
   ],
   "source": [
    "# unary operators\n",
    "print(-2)"
   ]
  },
  {
   "cell_type": "code",
   "execution_count": 11,
   "id": "012b7b0e-b31a-46f9-9847-7ec2649d8f65",
   "metadata": {},
   "outputs": [
    {
     "name": "stdout",
     "output_type": "stream",
     "text": [
      "32\n",
      "64\n",
      "256\n"
     ]
    }
   ],
   "source": [
    "# order of operators\n",
    "\n",
    "# B Brackets first\n",
    "# O Orders (powers, square roots, and so on)\n",
    "# DM Division and Multiplication (left-to-right)\n",
    "# AS Addition and Subtraction (left-to-right)\n",
    "\n",
    "print(4 * (5 + 3))\n",
    "print(4 ** 2 * (1 + 3))\n",
    "print(2 ** 2 ** 3) # power operator uses right side binding"
   ]
  },
  {
   "cell_type": "code",
   "execution_count": 10,
   "id": "2222f7d9-c544-4f95-90d5-d72859635fe1",
   "metadata": {},
   "outputs": [
    {
     "name": "stdout",
     "output_type": "stream",
     "text": [
      "0.30000000000000004\n"
     ]
    }
   ],
   "source": [
    "# automatic float rounding due to binary storage\n",
    "print(0.1 + 0.1 + 0.1)"
   ]
  },
  {
   "cell_type": "code",
   "execution_count": null,
   "id": "2d256d0b-9a98-4a14-a2df-0c1bb22bfa54",
   "metadata": {},
   "outputs": [],
   "source": []
  }
 ],
 "metadata": {
  "kernelspec": {
   "display_name": "Python [conda env:base] *",
   "language": "python",
   "name": "conda-base-py"
  },
  "language_info": {
   "codemirror_mode": {
    "name": "ipython",
    "version": 3
   },
   "file_extension": ".py",
   "mimetype": "text/x-python",
   "name": "python",
   "nbconvert_exporter": "python",
   "pygments_lexer": "ipython3",
   "version": "3.13.5"
  }
 },
 "nbformat": 4,
 "nbformat_minor": 5
}
