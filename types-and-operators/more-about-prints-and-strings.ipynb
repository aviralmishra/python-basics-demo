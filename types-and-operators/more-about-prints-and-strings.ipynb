{
 "cells": [
  {
   "cell_type": "code",
   "execution_count": 1,
   "id": "63ecd024-475d-4000-ad0e-1bbc7a93fd38",
   "metadata": {},
   "outputs": [
    {
     "data": {
      "text/plain": [
       "7"
      ]
     },
     "execution_count": 1,
     "metadata": {},
     "output_type": "execute_result"
    }
   ],
   "source": [
    "len('Hello!!')"
   ]
  },
  {
   "cell_type": "code",
   "execution_count": 2,
   "id": "1a29d688-d605-4f03-b5e1-ac18422274e8",
   "metadata": {},
   "outputs": [
    {
     "name": "stdout",
     "output_type": "stream",
     "text": [
      "HelloWorld!"
     ]
    }
   ],
   "source": [
    "print('Hello', end = 'World!')"
   ]
  },
  {
   "cell_type": "code",
   "execution_count": 4,
   "id": "54c3a8b8-96ad-42c0-bff9-07b8e8809be9",
   "metadata": {},
   "outputs": [
    {
     "name": "stdout",
     "output_type": "stream",
     "text": [
      "Hello World!"
     ]
    }
   ],
   "source": [
    "print('Hello ', end = 'World!')"
   ]
  },
  {
   "cell_type": "code",
   "execution_count": 9,
   "id": "4c131bd7-b344-4ecd-b8f8-2a5a499e9223",
   "metadata": {},
   "outputs": [
    {
     "name": "stdout",
     "output_type": "stream",
     "text": [
      "Hello, World! Awesome!"
     ]
    }
   ],
   "source": [
    "print('Hello', 'World!', sep = ', ', end = ' Awesome!')"
   ]
  },
  {
   "cell_type": "code",
   "execution_count": null,
   "id": "3cc04fe9-fc20-4c92-8dc5-eed6da62b4eb",
   "metadata": {},
   "outputs": [],
   "source": []
  }
 ],
 "metadata": {
  "kernelspec": {
   "display_name": "Python [conda env:base] *",
   "language": "python",
   "name": "conda-base-py"
  },
  "language_info": {
   "codemirror_mode": {
    "name": "ipython",
    "version": 3
   },
   "file_extension": ".py",
   "mimetype": "text/x-python",
   "name": "python",
   "nbconvert_exporter": "python",
   "pygments_lexer": "ipython3",
   "version": "3.13.5"
  }
 },
 "nbformat": 4,
 "nbformat_minor": 5
}
