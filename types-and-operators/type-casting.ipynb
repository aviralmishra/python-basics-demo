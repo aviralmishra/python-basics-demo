{
 "cells": [
  {
   "cell_type": "code",
   "execution_count": 4,
   "id": "2fc7f439-c93b-4275-8193-ae535683bee8",
   "metadata": {},
   "outputs": [
    {
     "name": "stdout",
     "output_type": "stream",
     "text": [
      "hi\n"
     ]
    }
   ],
   "source": [
    "message = 'hi'\n",
    "print(message)"
   ]
  },
  {
   "cell_type": "code",
   "execution_count": 2,
   "id": "63ecd024-475d-4000-ad0e-1bbc7a93fd38",
   "metadata": {},
   "outputs": [
    {
     "name": "stdin",
     "output_type": "stream",
     "text": [
      "Please input your height (cms) 172\n"
     ]
    },
    {
     "name": "stdout",
     "output_type": "stream",
     "text": [
      "Your height in feet is  5.657894736842105\n"
     ]
    }
   ],
   "source": [
    "height_cms = input('Please input your height (cms)')\n",
    "print('Your height in feet is ', float(height_cms) / 30.40)"
   ]
  },
  {
   "cell_type": "code",
   "execution_count": 5,
   "id": "c41e2a59-e927-4172-bc23-36e34dfbdf12",
   "metadata": {},
   "outputs": [
    {
     "name": "stdin",
     "output_type": "stream",
     "text": [
      "Please input your birth year 1980a\n"
     ]
    },
    {
     "ename": "ValueError",
     "evalue": "invalid literal for int() with base 10: '1980a'",
     "output_type": "error",
     "traceback": [
      "\u001b[0;31m---------------------------------------------------------------------------\u001b[0m",
      "\u001b[0;31mValueError\u001b[0m                                Traceback (most recent call last)",
      "Cell \u001b[0;32mIn[5], line 2\u001b[0m\n\u001b[1;32m      1\u001b[0m birth_year \u001b[38;5;241m=\u001b[39m \u001b[38;5;28minput\u001b[39m(\u001b[38;5;124m'\u001b[39m\u001b[38;5;124mPlease input your birth year\u001b[39m\u001b[38;5;124m'\u001b[39m)\n\u001b[0;32m----> 2\u001b[0m \u001b[38;5;28mprint\u001b[39m(\u001b[38;5;124m'\u001b[39m\u001b[38;5;124mYour age is \u001b[39m\u001b[38;5;124m'\u001b[39m, \u001b[38;5;241m2025\u001b[39m \u001b[38;5;241m-\u001b[39m \u001b[38;5;28mint\u001b[39m(birth_year))\n",
      "\u001b[0;31mValueError\u001b[0m: invalid literal for int() with base 10: '1980a'"
     ]
    }
   ],
   "source": [
    "birth_year = input('Please input your birth year')\n",
    "print('Your age is ', 2025 - int(birth_year))"
   ]
  },
  {
   "cell_type": "code",
   "execution_count": null,
   "id": "d122fb6d-9d04-413c-a536-16d251709e98",
   "metadata": {},
   "outputs": [],
   "source": [
    "hours = input('How many hours did you work last month? ')\n",
    "hourly_rate = input('What is your hourly rate? ')\n",
    "\n",
    "print('Last month, you earned', float(hours) * float(hourly_rate), 'dollars')"
   ]
  }
 ],
 "metadata": {
  "kernelspec": {
   "display_name": "Python [conda env:base] *",
   "language": "python",
   "name": "conda-base-py"
  },
  "language_info": {
   "codemirror_mode": {
    "name": "ipython",
    "version": 3
   },
   "file_extension": ".py",
   "mimetype": "text/x-python",
   "name": "python",
   "nbconvert_exporter": "python",
   "pygments_lexer": "ipython3",
   "version": "3.13.5"
  }
 },
 "nbformat": 4,
 "nbformat_minor": 5
}
