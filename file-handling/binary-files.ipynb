{
 "cells": [
  {
   "cell_type": "code",
   "execution_count": 1,
   "id": "2e6372fe-8d1d-4e08-819f-95b82af58f47",
   "metadata": {},
   "outputs": [],
   "source": [
    "file_name = 'my-new-binary-file.bin'"
   ]
  },
  {
   "cell_type": "code",
   "execution_count": 2,
   "id": "4cb7a4f4-7a3c-4a93-b652-4518485d192a",
   "metadata": {},
   "outputs": [],
   "source": [
    "# writing binary data into file\n",
    "try:\n",
    "    number_of_bytes = 100\n",
    "    \n",
    "    stream = open(file_name, 'wb')\n",
    "    data = bytearray(number_of_bytes)\n",
    "\n",
    "    for i in range(0, number_of_bytes):\n",
    "        data[i] = ord(chr(i))\n",
    "\n",
    "    stream.write(data)\n",
    "except Exception as e:\n",
    "    print(e)\n",
    "finally:\n",
    "    stream.close()"
   ]
  },
  {
   "cell_type": "code",
   "execution_count": 3,
   "id": "2110d9f0-c46b-415a-b311-c270916fc7f6",
   "metadata": {},
   "outputs": [
    {
     "name": "stdout",
     "output_type": "stream",
     "text": [
      "b'\\x00\\x01\\x02\\x03\\x04\\x05\\x06\\x07\\x08\\t\\n\\x0b\\x0c\\r\\x0e\\x0f\\x10\\x11\\x12\\x13\\x14\\x15\\x16\\x17\\x18\\x19\\x1a\\x1b\\x1c\\x1d\\x1e\\x1f !\"#$%&\\'()*+,-./0123456789:;<=>?@ABCDEFGHIJKLMNOPQRSTUVWXYZ[\\\\]^_`abc'\n"
     ]
    }
   ],
   "source": [
    "# reading binary file into bytes object\n",
    "try:\n",
    "    stream = open(file_name, 'rb')\n",
    "    data = stream.read() # bytes class object - immutable\n",
    "\n",
    "    print(data)\n",
    "except Exception as e:\n",
    "    print(e)\n",
    "finally:\n",
    "    stream.close()"
   ]
  },
  {
   "cell_type": "code",
   "execution_count": 4,
   "id": "c3418e99-7f11-4064-b3ce-25699d7a2cd6",
   "metadata": {},
   "outputs": [
    {
     "name": "stdout",
     "output_type": "stream",
     "text": [
      "b'\\x00\\x01\\x02\\x03\\x04\\x05\\x06\\x07\\x08\\t\\n\\x0b\\x0c\\r\\x0e\\x0f\\x10\\x11\\x12\\x13\\x14\\x15\\x16\\x17\\x18\\x19\\x1a\\x1b\\x1c\\x1d\\x1e\\x1f !\"#$%&\\'()*+,-./0123456789:;<=>?@ABCDEFGHIJKLMNOPQRSTUVWXYZ[\\\\]^_`abc'\n"
     ]
    }
   ],
   "source": [
    "# reading binary file into bytearray\n",
    "try:\n",
    "    stream = open(file_name, 'rb')\n",
    "    byte_array = bytearray(stream.read()) # byte array\n",
    "\n",
    "    print(data)\n",
    "except Exception as e:\n",
    "    print(e)\n",
    "finally:\n",
    "    stream.close()"
   ]
  }
 ],
 "metadata": {
  "kernelspec": {
   "display_name": "Python [conda env:base] *",
   "language": "python",
   "name": "conda-base-py"
  },
  "language_info": {
   "codemirror_mode": {
    "name": "ipython",
    "version": 3
   },
   "file_extension": ".py",
   "mimetype": "text/x-python",
   "name": "python",
   "nbconvert_exporter": "python",
   "pygments_lexer": "ipython3",
   "version": "3.13.5"
  }
 },
 "nbformat": 4,
 "nbformat_minor": 5
}
