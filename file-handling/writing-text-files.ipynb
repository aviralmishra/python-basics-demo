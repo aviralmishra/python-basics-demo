{
 "cells": [
  {
   "cell_type": "code",
   "execution_count": 1,
   "id": "96d21584-921d-4223-81ba-0bcf3a348265",
   "metadata": {},
   "outputs": [],
   "source": [
    "file_name = 'my-new-file.txt'"
   ]
  },
  {
   "cell_type": "code",
   "execution_count": 2,
   "id": "d62f2a24-972d-4ff6-9946-92eeeb70efda",
   "metadata": {},
   "outputs": [],
   "source": [
    "from datetime import datetime\n",
    "\n",
    "current_datetime = datetime.now()\n",
    "current_time = current_datetime.time()\n",
    "\n",
    "# writing\n",
    "try:\n",
    "    stream = open(file_name, 'w')\n",
    "\n",
    "    stream.write('line 1 written through py at ' + str(current_time) + '\\n')\n",
    "    stream.write('line 1 written through py at ' + str(current_time) + '\\n')\n",
    "except Exception as e:\n",
    "    print(e)\n",
    "finally:\n",
    "    stream.close()"
   ]
  },
  {
   "cell_type": "code",
   "execution_count": 3,
   "id": "bef8eb7e-3550-4704-9a6e-1817a1844e5a",
   "metadata": {},
   "outputs": [],
   "source": [
    "from datetime import datetime\n",
    "\n",
    "current_datetime = datetime.now()\n",
    "current_time = current_datetime.time()\n",
    "\n",
    "# writing\n",
    "try:\n",
    "    stream = open(file_name, 'a')\n",
    "\n",
    "    stream.write('line 1 written through py at ' + str(current_time) + '\\n')\n",
    "    stream.write('line 1 written through py at ' + str(current_time) + '\\n')\n",
    "except Exception as e:\n",
    "    print(e)\n",
    "finally:\n",
    "    stream.close()"
   ]
  }
 ],
 "metadata": {
  "kernelspec": {
   "display_name": "Python [conda env:base] *",
   "language": "python",
   "name": "conda-base-py"
  },
  "language_info": {
   "codemirror_mode": {
    "name": "ipython",
    "version": 3
   },
   "file_extension": ".py",
   "mimetype": "text/x-python",
   "name": "python",
   "nbconvert_exporter": "python",
   "pygments_lexer": "ipython3",
   "version": "3.13.5"
  }
 },
 "nbformat": 4,
 "nbformat_minor": 5
}
