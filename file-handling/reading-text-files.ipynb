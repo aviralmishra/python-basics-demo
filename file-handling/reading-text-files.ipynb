{
 "cells": [
  {
   "cell_type": "code",
   "execution_count": 1,
   "id": "a8902e5b-9d8c-44d4-b232-ddf0d1fc5a95",
   "metadata": {},
   "outputs": [],
   "source": [
    "file_name = 'flowers-list.txt'"
   ]
  },
  {
   "cell_type": "code",
   "execution_count": 14,
   "id": "e9efaf58-1aff-4bcc-a4f7-508ba553b314",
   "metadata": {},
   "outputs": [
    {
     "name": "stdout",
     "output_type": "stream",
     "text": [
      "Aster\n",
      "Camellia\n",
      "Daisy\n",
      "Gardenia\n",
      "Iris\n",
      "Jasmine\n",
      "Lavender\n",
      "Lotus\n",
      "Poppy\n",
      "Tulip"
     ]
    }
   ],
   "source": [
    "# for with open\n",
    "for item in open(file_name, 'rt'):\n",
    "    print(item, end = '')"
   ]
  },
  {
   "cell_type": "code",
   "execution_count": 2,
   "id": "2e6372fe-8d1d-4e08-819f-95b82af58f47",
   "metadata": {},
   "outputs": [],
   "source": [
    "# stream\n",
    "try:\n",
    "    stream = open(file_name)    \n",
    "    stream.close()\n",
    "except Exception as e:\n",
    "    print(e)"
   ]
  },
  {
   "cell_type": "code",
   "execution_count": 3,
   "id": "e4f858c7-2888-4ffd-aa98-b91a58171ff4",
   "metadata": {},
   "outputs": [
    {
     "name": "stdout",
     "output_type": "stream",
     "text": [
      "Aster\n",
      "Camellia\n",
      "Daisy\n",
      "Gardenia\n",
      "Iris\n",
      "Jasmine\n",
      "Lavender\n",
      "Lotus\n",
      "Poppy\n",
      "Tulip\n"
     ]
    }
   ],
   "source": [
    "# reading entire file at once\n",
    "try:\n",
    "    stream = open(file_name)\n",
    "    print(stream.read())\n",
    "    \n",
    "    stream.close()\n",
    "except Exception as e:\n",
    "    print(e)"
   ]
  },
  {
   "cell_type": "code",
   "execution_count": 4,
   "id": "dfbbd633-e3eb-4dfc-b1d4-a14e7da13dc3",
   "metadata": {},
   "outputs": [
    {
     "name": "stdout",
     "output_type": "stream",
     "text": [
      "Aster\n"
     ]
    }
   ],
   "source": [
    "# reading certain number of bytes from the start\n",
    "try:\n",
    "    stream = open(file_name)\n",
    "    print(stream.read(5))\n",
    "    \n",
    "    stream.close()\n",
    "except Exception as e:\n",
    "    print(e)"
   ]
  },
  {
   "cell_type": "code",
   "execution_count": 5,
   "id": "bc238a87-0fe2-4030-a7f8-d7f1351a2e81",
   "metadata": {},
   "outputs": [
    {
     "name": "stdout",
     "output_type": "stream",
     "text": [
      "Aster\n",
      "Camellia\n",
      "Daisy\n",
      "Gard\n",
      "enia\n",
      "Iris\n",
      "Jasmine\n",
      "Lavende\n",
      "r\n",
      "Lotus\n",
      "Poppy\n",
      "Tulip\n"
     ]
    }
   ],
   "source": [
    "# continue reading bytes by bytes\n",
    "try:\n",
    "    stream = open(file_name)\n",
    "    print(stream.read(25))\n",
    "    print(stream.read(25))\n",
    "    print(stream.read(25))\n",
    "    \n",
    "    stream.close()\n",
    "except Exception as e:\n",
    "    print(e)"
   ]
  },
  {
   "cell_type": "code",
   "execution_count": 6,
   "id": "2fa09f97-d657-4a4e-aa44-a59852491c40",
   "metadata": {},
   "outputs": [
    {
     "name": "stdout",
     "output_type": "stream",
     "text": [
      "Aster\n",
      "Camellia\n",
      "Daisy\n",
      "Gardenia\n",
      "Iris\n",
      "Jasmine\n",
      "Lavender\n",
      "Lotus\n",
      "Poppy\n",
      "Tulip\n",
      "\n"
     ]
    }
   ],
   "source": [
    "# continue reading bytes by bytes until end of file\n",
    "try:\n",
    "    stream = open(file_name)\n",
    "    print(stream.read(100)) # all characters read\n",
    "    print(stream.read(1))   # end-of-file is indicated as empty character ''\n",
    "    \n",
    "    stream.close()\n",
    "except Exception as e:\n",
    "    print(e)"
   ]
  },
  {
   "cell_type": "code",
   "execution_count": 7,
   "id": "8e255ef1-a623-47ba-adc1-c91a05ac4f29",
   "metadata": {},
   "outputs": [
    {
     "name": "stdout",
     "output_type": "stream",
     "text": [
      "ASTER\n",
      "CAMELLIA\n",
      "DAISY\n",
      "GARDENIA\n",
      "IRIS\n",
      "JASMINE\n",
      "LAVENDER\n",
      "LOTUS\n",
      "POPPY\n",
      "TULIP"
     ]
    }
   ],
   "source": [
    "# continue reading byte by byte until end of file \n",
    "try:\n",
    "    stream = open(file_name)\n",
    "    char = stream.read(1)\n",
    "\n",
    "    while char != '':\n",
    "        print(char.upper(), end = '')\n",
    "        char = stream.read(1)\n",
    "    \n",
    "    stream.close()\n",
    "except Exception as e:\n",
    "    print(e)"
   ]
  },
  {
   "cell_type": "code",
   "execution_count": 8,
   "id": "e00d54f3-d815-47c4-a86f-4dab84f329f6",
   "metadata": {},
   "outputs": [
    {
     "name": "stdout",
     "output_type": "stream",
     "text": [
      "ASTER\n",
      "CAMELLIA\n",
      "DAISY\n",
      "GARDENIA\n",
      "IRIS\n",
      "JASMINE\n",
      "LAVENDER\n",
      "LOTUS\n",
      "POPPY\n",
      "TULIP"
     ]
    }
   ],
   "source": [
    "# reading the file line by line until end of file\n",
    "try:\n",
    "    stream = open(file_name)\n",
    "    line = stream.readline()\n",
    "\n",
    "    while line != '':\n",
    "        print(line.upper(), end = '')\n",
    "        line = stream.readline()\n",
    "    \n",
    "    stream.close()\n",
    "except Exception as e:\n",
    "    print(e)"
   ]
  },
  {
   "cell_type": "code",
   "execution_count": 9,
   "id": "1a4f3bee-f6a8-422b-9570-b4e8bded4e73",
   "metadata": {},
   "outputs": [
    {
     "name": "stdout",
     "output_type": "stream",
     "text": [
      "The number of flowers in the list are 10 .\n",
      "['Aster\\n', 'Camellia\\n', 'Daisy\\n', 'Gardenia\\n', 'Iris\\n', 'Jasmine\\n', 'Lavender\\n', 'Lotus\\n', 'Poppy\\n', 'Tulip']\n",
      "Aster\n",
      "Camellia\n",
      "Daisy\n",
      "Gardenia\n",
      "Iris\n",
      "Jasmine\n",
      "Lavender\n",
      "Lotus\n",
      "Poppy\n",
      "Tulip"
     ]
    }
   ],
   "source": [
    "# reading entire file at once as lines \n",
    "try:\n",
    "    stream = open(file_name)\n",
    "    lines = stream.readlines()\n",
    "\n",
    "    print('The number of flowers in the list are', len(lines), '.')\n",
    "    print(lines)\n",
    "\n",
    "    for line in lines:\n",
    "        print(line, end = '')\n",
    "    \n",
    "    stream.close()\n",
    "except Exception as e:\n",
    "    print(e)"
   ]
  },
  {
   "cell_type": "code",
   "execution_count": 10,
   "id": "6e73c506-6cd5-4e7c-b73c-b5008558c329",
   "metadata": {},
   "outputs": [
    {
     "name": "stdout",
     "output_type": "stream",
     "text": [
      "['Aster\\n']['Camellia\\n']['Daisy\\n']['Gardenia\\n']['Iris\\n']['Jasmine\\n']['Lavender\\n']['Lotus\\n']['Poppy\\n']['Tulip']"
     ]
    }
   ],
   "source": [
    "# reading file at certain number of lines at a time\n",
    "try:\n",
    "    stream = open(file_name)\n",
    "    lines = stream.readlines(2)\n",
    "\n",
    "    while len(lines) != 0:\n",
    "        print(lines, end = '')\n",
    "        lines = stream.readlines(2)\n",
    "    \n",
    "    stream.close()\n",
    "except Exception as e:\n",
    "    print(e)"
   ]
  },
  {
   "cell_type": "code",
   "execution_count": 11,
   "id": "4debabc8-e80e-414c-a40d-382980f03243",
   "metadata": {},
   "outputs": [
    {
     "name": "stdout",
     "output_type": "stream",
     "text": [
      "Aster\n",
      "Camellia\n",
      "Daisy\n",
      "Gardenia\n",
      "Iris\n",
      "Jasmine\n",
      "Lavender\n",
      "Lotus\n",
      "Poppy\n",
      "Tulip"
     ]
    }
   ],
   "source": [
    "# reading file - recommended\n",
    "try:\n",
    "    stream = open(file_name)\n",
    "    for line in stream:\n",
    "        print(line, end = '')\n",
    "        \n",
    "except Exception as e:\n",
    "    print(e)"
   ]
  },
  {
   "cell_type": "code",
   "execution_count": null,
   "id": "f7e8661e-5452-493e-a24e-3fa2038031f2",
   "metadata": {},
   "outputs": [],
   "source": []
  }
 ],
 "metadata": {
  "kernelspec": {
   "display_name": "Python [conda env:base] *",
   "language": "python",
   "name": "conda-base-py"
  },
  "language_info": {
   "codemirror_mode": {
    "name": "ipython",
    "version": 3
   },
   "file_extension": ".py",
   "mimetype": "text/x-python",
   "name": "python",
   "nbconvert_exporter": "python",
   "pygments_lexer": "ipython3",
   "version": "3.13.5"
  }
 },
 "nbformat": 4,
 "nbformat_minor": 5
}
