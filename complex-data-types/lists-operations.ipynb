{
 "cells": [
  {
   "cell_type": "code",
   "execution_count": 1,
   "id": "54df5252-6ddb-4e6c-b42d-9a6904603d9d",
   "metadata": {},
   "outputs": [
    {
     "name": "stdout",
     "output_type": "stream",
     "text": [
      "['Sydney', 'Melbourne', 'Brisbane', 'Perth', 'Adelaide', 'Hobart', 'Canberra', 'Darwin']\n"
     ]
    }
   ],
   "source": [
    "cities = ['Sydney', 'Melbourne', 'Brisbane', 'Perth', 'Adelaide', 'Hobart', 'Canberra', 'Darwin']\n",
    "print(cities)\n"
   ]
  },
  {
   "cell_type": "code",
   "execution_count": 2,
   "id": "afb7048e-4d08-4072-b42f-4cc82e0b84b8",
   "metadata": {},
   "outputs": [
    {
     "name": "stdout",
     "output_type": "stream",
     "text": [
      "['Brisbane', 'Melbourne', 'Sydney', 'Perth', 'Adelaide', 'Hobart', 'Canberra', 'Darwin']\n"
     ]
    }
   ],
   "source": [
    "#swap\n",
    "cities = ['Sydney', 'Melbourne', 'Brisbane', 'Perth', 'Adelaide', 'Hobart', 'Canberra', 'Darwin']\n",
    "cities[0],cities[2] = cities[2],cities[0]\n",
    "print(cities)"
   ]
  },
  {
   "cell_type": "code",
   "execution_count": 3,
   "id": "c1e28b44-6923-4ecd-bd6e-54ac61ef2074",
   "metadata": {},
   "outputs": [
    {
     "name": "stdout",
     "output_type": "stream",
     "text": [
      "['Adelaide', 'Brisbane', 'Canberra', 'Darwin', 'Hobart', 'Melbourne', 'Perth', 'Sydney']\n"
     ]
    }
   ],
   "source": [
    "#sort\n",
    "cities = ['Sydney', 'Melbourne', 'Brisbane', 'Perth', 'Adelaide', 'Hobart', 'Canberra', 'Darwin']\n",
    "cities.sort()\n",
    "print(cities)"
   ]
  },
  {
   "cell_type": "code",
   "execution_count": 4,
   "id": "888153d4-393c-406f-a3e0-c24f97dda4ac",
   "metadata": {},
   "outputs": [
    {
     "name": "stdout",
     "output_type": "stream",
     "text": [
      "['Sydney', 'Perth', 'Melbourne', 'Hobart', 'Darwin', 'Canberra', 'Brisbane', 'Adelaide']\n"
     ]
    }
   ],
   "source": [
    "# reverse sort\n",
    "cities = ['Sydney', 'Melbourne', 'Brisbane', 'Perth', 'Adelaide', 'Hobart', 'Canberra', 'Darwin']\n",
    "cities.sort(reverse = True)\n",
    "print(cities)"
   ]
  },
  {
   "cell_type": "code",
   "execution_count": 5,
   "id": "9f2424e8-fef0-4b42-86fa-e8798837b1e5",
   "metadata": {},
   "outputs": [
    {
     "name": "stdout",
     "output_type": "stream",
     "text": [
      "['Adelaide', 'Brisbane', 'Canberra', 'Darwin', 'Hobart', 'Melbourne', 'Perth', 'Sydney']\n",
      "['Sydney', 'Melbourne', 'Brisbane', 'Perth', 'Adelaide', 'Hobart', 'Canberra', 'Darwin']\n"
     ]
    }
   ],
   "source": [
    "# sort without modifying list\n",
    "cities = ['Sydney', 'Melbourne', 'Brisbane', 'Perth', 'Adelaide', 'Hobart', 'Canberra', 'Darwin']\n",
    "print(sorted(cities))\n",
    "print(cities)"
   ]
  },
  {
   "cell_type": "code",
   "execution_count": 7,
   "id": "ac2e0ffb-e0d5-4030-a815-1346a256b48f",
   "metadata": {},
   "outputs": [
    {
     "name": "stdin",
     "output_type": "stream",
     "text": [
      "Where do you live? Ab\n"
     ]
    },
    {
     "name": "stdout",
     "output_type": "stream",
     "text": [
      "You live in the country\n"
     ]
    }
   ],
   "source": [
    "# check presence\n",
    "cities = ['Sydney', 'Melbourne', 'Brisbane', 'Perth', 'Adelaide', 'Hobart', 'Canberra', 'Darwin']\n",
    "live_in = input('Where do you live?')\n",
    "\n",
    "if live_in in cities:\n",
    "    print('You live in a city!')\n",
    "else:\n",
    "    print('You live in the country.')"
   ]
  },
  {
   "cell_type": "code",
   "execution_count": 14,
   "id": "d9c1b272-9748-47c1-bd9f-715593937893",
   "metadata": {},
   "outputs": [
    {
     "name": "stdout",
     "output_type": "stream",
     "text": [
      "['Sydney', 'Melbourne', 'Brisbane', 'Perth', 'Adelaide', 'Hobart', 'Canberra', 'Darwin']\n",
      "['Sydney', 'Melbourne', 'Brisbane', 'Perth', 'Adelaide', 'Hobart', 'Canberra', 'Darwin', 'Wollongong']\n"
     ]
    }
   ],
   "source": [
    "# get new list through slicing\n",
    "cities = ['Sydney', 'Melbourne', 'Brisbane', 'Perth', 'Adelaide', 'Hobart', 'Canberra', 'Darwin']\n",
    "\n",
    "new_cities = cities[:]\n",
    "new_cities.append('Wollongong')\n",
    "\n",
    "print(cities, sep = '|')\n",
    "print(new_cities, sep = '|')"
   ]
  },
  {
   "cell_type": "code",
   "execution_count": 20,
   "id": "c1cdefcd-c4ac-4980-a81e-76afa5666e15",
   "metadata": {},
   "outputs": [
    {
     "name": "stdout",
     "output_type": "stream",
     "text": [
      "[1, 4, 9, 16, 25, 36, 49, 64, 81, 100]\n"
     ]
    }
   ],
   "source": [
    "# comprehension - creating lists from expressions\n",
    "squares = [(i ** 2) for i in range(1, 11)]\n",
    "print(squares)"
   ]
  },
  {
   "cell_type": "code",
   "execution_count": 21,
   "id": "1e92d82e-81b1-43b0-97e0-b5e5f2a3bb27",
   "metadata": {},
   "outputs": [
    {
     "name": "stdout",
     "output_type": "stream",
     "text": [
      "[4, 16, 36, 64, 100]\n"
     ]
    }
   ],
   "source": [
    "squares = [(i ** 2) for i in range(1, 11) if i % 2 == 0]\n",
    "print(squares)"
   ]
  },
  {
   "cell_type": "code",
   "execution_count": 23,
   "id": "a2a84136-ec8b-481f-93d0-5d087af1ae56",
   "metadata": {},
   "outputs": [
    {
     "name": "stdout",
     "output_type": "stream",
     "text": [
      "B1\n"
     ]
    }
   ],
   "source": [
    "# nested lists\n",
    "table = [['A1', 'A2', 'A3'], ['B1', 'B2', 'B3']]\n",
    "print(cells[1][0])"
   ]
  },
  {
   "cell_type": "code",
   "execution_count": 28,
   "id": "e73aaedb-cca8-4165-bee9-2be852fff09e",
   "metadata": {},
   "outputs": [
    {
     "name": "stdout",
     "output_type": "stream",
     "text": [
      "\n",
      "|   A1   |   A2   |   A3   |   \n",
      "|   B1   |   B2   |   B3   |   "
     ]
    }
   ],
   "source": [
    "table = [['A1', 'A2', 'A3'], ['B1', 'B2', 'B3']]\n",
    "\n",
    "for row in table:\n",
    "    print('\\n', end = '|   ')\n",
    "    for col in row:\n",
    "        print(col, end = '   |   ')"
   ]
  },
  {
   "cell_type": "code",
   "execution_count": 32,
   "id": "9b0082a1-a1ad-42df-98e1-b42d5ab83fc5",
   "metadata": {},
   "outputs": [
    {
     "name": "stdout",
     "output_type": "stream",
     "text": [
      "[[1, 4, 9, 16, 25], [1, 4, 9, 16, 25], [1, 4, 9, 16, 25], [1, 4, 9, 16, 25]]\n"
     ]
    }
   ],
   "source": [
    "table = [[i * i for i in range(1, 6)] for j in range(4)]\n",
    "print(table)"
   ]
  },
  {
   "cell_type": "code",
   "execution_count": 33,
   "id": "fb508054-bd5a-482d-9104-2cd382f41b57",
   "metadata": {},
   "outputs": [
    {
     "name": "stdout",
     "output_type": "stream",
     "text": [
      "[1, 4, 9, 16, 25, 1, 8, 27, 64, 125]\n"
     ]
    }
   ],
   "source": [
    "# add lists\n",
    "first = [i ** 2 for i in range(1, 6)]\n",
    "second = [i ** 3 for i in range(1, 6)]\n",
    "\n",
    "third = first + second;\n",
    "print(third)"
   ]
  },
  {
   "cell_type": "code",
   "execution_count": 34,
   "id": "bfc878b1-e98c-459c-807a-9872fc62e8b4",
   "metadata": {},
   "outputs": [
    {
     "name": "stdout",
     "output_type": "stream",
     "text": [
      "[1, 4, 9, 16, 25, 1, 4, 9, 16, 25]\n"
     ]
    }
   ],
   "source": [
    "# multiply lists\n",
    "first = [i ** 2 for i in range(1, 6)]\n",
    "second = first * 2\n",
    "\n",
    "print(second)"
   ]
  },
  {
   "cell_type": "code",
   "execution_count": null,
   "id": "9f82581d-2cfb-4db8-9440-7ad156213cab",
   "metadata": {},
   "outputs": [],
   "source": []
  }
 ],
 "metadata": {
  "kernelspec": {
   "display_name": "Python [conda env:base] *",
   "language": "python",
   "name": "conda-base-py"
  },
  "language_info": {
   "codemirror_mode": {
    "name": "ipython",
    "version": 3
   },
   "file_extension": ".py",
   "mimetype": "text/x-python",
   "name": "python",
   "nbconvert_exporter": "python",
   "pygments_lexer": "ipython3",
   "version": "3.13.5"
  }
 },
 "nbformat": 4,
 "nbformat_minor": 5
}
