{
 "cells": [
  {
   "cell_type": "code",
   "execution_count": 1,
   "id": "64d13c3a-dca5-44e5-a0c7-721a783cd260",
   "metadata": {},
   "outputs": [
    {
     "name": "stdout",
     "output_type": "stream",
     "text": [
      "John Smith\n"
     ]
    }
   ],
   "source": [
    "users = {\n",
    "    'jsmith': 'John Smith',\n",
    "    'msmith': 'Mark Smith'\n",
    "}\n",
    "\n",
    "print(users['jsmith'])"
   ]
  },
  {
   "cell_type": "code",
   "execution_count": 2,
   "id": "8c571511-05e7-4725-a30e-d7670b4e457a",
   "metadata": {},
   "outputs": [
    {
     "name": "stdout",
     "output_type": "stream",
     "text": [
      "Joe Smith\n"
     ]
    }
   ],
   "source": [
    "users = {\n",
    "    'jsmith': 'John Smith',    \n",
    "    'msmith': 'Mark Smith',\n",
    "    'jsmith': 'Joe Smith'\n",
    "}\n",
    "\n",
    "print(users['jsmith'])"
   ]
  },
  {
   "cell_type": "code",
   "execution_count": 3,
   "id": "72d253df-1cf0-4893-a175-a1a96e712047",
   "metadata": {},
   "outputs": [
    {
     "name": "stdout",
     "output_type": "stream",
     "text": [
      "John Smith\n"
     ]
    }
   ],
   "source": [
    "users = {\n",
    "    1: 'John Smith',    \n",
    "    2: 'Mark Smith',\n",
    "    3: 'Joe Smith'\n",
    "}\n",
    "\n",
    "print(users[1])"
   ]
  },
  {
   "cell_type": "code",
   "execution_count": 10,
   "id": "528805c6-fb00-4872-9ae2-063c32b2d851",
   "metadata": {},
   "outputs": [
    {
     "name": "stdout",
     "output_type": "stream",
     "text": [
      "John Smith, Mark Smith\n",
      "Joe Smith, Mark Smith\n"
     ]
    }
   ],
   "source": [
    "users = {}\n",
    "\n",
    "users[1] = 'John Smith'    \n",
    "users[2] = 'Mark Smith'\n",
    "\n",
    "print(users[1], users[2], sep = ', ')\n",
    "\n",
    "# update method\n",
    "users.update({1: 'Joe Smith'})\n",
    "print(users[1], users[2], sep = ', ')"
   ]
  },
  {
   "cell_type": "code",
   "execution_count": 11,
   "id": "1864b027-349a-48b1-8120-7e1528109f20",
   "metadata": {},
   "outputs": [
    {
     "data": {
      "text/plain": [
       "2"
      ]
     },
     "execution_count": 11,
     "metadata": {},
     "output_type": "execute_result"
    }
   ],
   "source": [
    "len(users)"
   ]
  },
  {
   "cell_type": "code",
   "execution_count": 12,
   "id": "c34d30b9-651b-4492-9611-f5c3e757738a",
   "metadata": {},
   "outputs": [
    {
     "name": "stdout",
     "output_type": "stream",
     "text": [
      "Available\n"
     ]
    }
   ],
   "source": [
    "if 1 in users:\n",
    "    print('Available')\n",
    "else:\n",
    "    print('Not available')"
   ]
  },
  {
   "cell_type": "code",
   "execution_count": 14,
   "id": "fd8d7606-722a-4e57-883f-d0627a11b35c",
   "metadata": {},
   "outputs": [
    {
     "name": "stdout",
     "output_type": "stream",
     "text": [
      "{2: 'Mark Smith'}\n"
     ]
    }
   ],
   "source": [
    "del users[1]\n",
    "print(users)"
   ]
  },
  {
   "cell_type": "code",
   "execution_count": 23,
   "id": "ed47c720-e321-4ef1-adae-9a257d03acc1",
   "metadata": {},
   "outputs": [
    {
     "name": "stdout",
     "output_type": "stream",
     "text": [
      "jsmith\n",
      "msmith\n",
      "------------\n",
      "jsmith\n",
      "msmith\n",
      "------------\n",
      "John Smith\n",
      "Mark Smith\n",
      "------------\n",
      "jsmith - John Smith\n",
      "msmith - Mark Smith\n"
     ]
    }
   ],
   "source": [
    "users = {\n",
    "    'jsmith': 'John Smith',    \n",
    "    'msmith': 'Mark Smith'\n",
    "}\n",
    "\n",
    "for user in users:\n",
    "    print(user)\n",
    "\n",
    "print('------------')\n",
    "for user in users.keys():\n",
    "    print(user)    \n",
    "    \n",
    "print('------------')\n",
    "for user in users.values():\n",
    "    print(user) \n",
    "\n",
    "print('------------')\n",
    "for username, name in users.items():\n",
    "    print(username, '-', name)       "
   ]
  },
  {
   "cell_type": "code",
   "execution_count": 24,
   "id": "bfe47eaa-02a1-4e67-bd9e-11090b5e3cdd",
   "metadata": {},
   "outputs": [
    {
     "name": "stdin",
     "output_type": "stream",
     "text": [
      "Enter a word in English or EXIT:  mouth\n"
     ]
    },
    {
     "name": "stdout",
     "output_type": "stream",
     "text": [
      "Translation: Mund\n"
     ]
    },
    {
     "name": "stdin",
     "output_type": "stream",
     "text": [
      "Enter a word in English or EXIT:  EXIT\n"
     ]
    },
    {
     "name": "stdout",
     "output_type": "stream",
     "text": [
      "Bye!\n"
     ]
    }
   ],
   "source": [
    "sample_dict = {\n",
    "    \"mouth\": \"Mund\",\n",
    "    \"finger\": \"Finger\",\n",
    "    \"leg\": \"Bein\",\n",
    "    \"hand\": \"Hand\",\n",
    "    \"face\": \"Gesicht\",\n",
    "    \"nose\": \"Nase\"\n",
    "}\n",
    "\n",
    "while(True):\n",
    "    key = input('Enter a word in English or EXIT: ')\n",
    "    \n",
    "    if key == 'EXIT':\n",
    "        print('Bye!')\n",
    "        break\n",
    "    elif key in sample_dict:\n",
    "        print('Translation:', sample_dict[key])\n",
    "    else:\n",
    "        print('No match!')\n",
    "    \n"
   ]
  },
  {
   "cell_type": "code",
   "execution_count": 25,
   "id": "4f055333-c038-4f25-aec7-569633745b25",
   "metadata": {},
   "outputs": [
    {
     "name": "stdout",
     "output_type": "stream",
     "text": [
      "False\n"
     ]
    }
   ],
   "source": [
    "dict1 = {'one': 1, 'two': 2, 'three': 3}\n",
    "dict2 = {'one': 1, 'two': 5, 'four': 8}\n",
    "\n",
    "dict3 = dict(dict1)\n",
    "dict4 = dict(dict2)\n",
    "\n",
    "dict3.update(dict2)\n",
    "dict4.update(dict1)\n",
    "\n",
    "print(dict3 == dict4)"
   ]
  }
 ],
 "metadata": {
  "kernelspec": {
   "display_name": "Python [conda env:base] *",
   "language": "python",
   "name": "conda-base-py"
  },
  "language_info": {
   "codemirror_mode": {
    "name": "ipython",
    "version": 3
   },
   "file_extension": ".py",
   "mimetype": "text/x-python",
   "name": "python",
   "nbconvert_exporter": "python",
   "pygments_lexer": "ipython3",
   "version": "3.13.5"
  }
 },
 "nbformat": 4,
 "nbformat_minor": 5
}
