{
 "cells": [
  {
   "cell_type": "code",
   "execution_count": 26,
   "id": "63ecd024-475d-4000-ad0e-1bbc7a93fd38",
   "metadata": {},
   "outputs": [
    {
     "name": "stdout",
     "output_type": "stream",
     "text": [
      "['Sydney', 'Melbourne', 'Brisbane', 'Perth', 'Adelaide', 'Hobart', 'Canberra', 'Darwin']\n"
     ]
    }
   ],
   "source": [
    "cities = [\n",
    "    'Sydney', 'Melbourne', 'Brisbane', 'Perth', 'Adelaide', 'Hobart', 'Canberra', 'Darwin'\n",
    "]\n",
    "print(cities)\n"
   ]
  },
  {
   "cell_type": "code",
   "execution_count": 27,
   "id": "ecb88231-39d7-44f6-aa10-a3ced814f272",
   "metadata": {},
   "outputs": [
    {
     "name": "stdout",
     "output_type": "stream",
     "text": [
      "Melbourne\n",
      "Darwin\n"
     ]
    }
   ],
   "source": [
    "print(cities[1])\n",
    "print(cities[-1])"
   ]
  },
  {
   "cell_type": "code",
   "execution_count": 28,
   "id": "df751ee2-ac50-4b01-8cb2-a069c25cd234",
   "metadata": {},
   "outputs": [
    {
     "name": "stdout",
     "output_type": "stream",
     "text": [
      "['Adelaide', 'Hobart', 'Canberra']\n"
     ]
    }
   ],
   "source": [
    "print(cities[4:7]) # first element inclusive, second eclusive"
   ]
  },
  {
   "cell_type": "code",
   "execution_count": 29,
   "id": "b08125e6-ad99-4f41-8936-350b22dff96e",
   "metadata": {},
   "outputs": [
    {
     "name": "stdout",
     "output_type": "stream",
     "text": [
      "['Adelaide', 'Hobart', 'Canberra', 'Darwin']\n"
     ]
    }
   ],
   "source": [
    "print(cities[4:])"
   ]
  },
  {
   "cell_type": "code",
   "execution_count": 30,
   "id": "303d1592-46ee-45ce-8777-835567838ca6",
   "metadata": {},
   "outputs": [
    {
     "name": "stdout",
     "output_type": "stream",
     "text": [
      "['Sydney', 'Melbourne', 'Brisbane', 'Perth']\n"
     ]
    }
   ],
   "source": [
    "print(cities[:4])"
   ]
  },
  {
   "cell_type": "code",
   "execution_count": 31,
   "id": "15af3495-a659-4403-ada2-e4eff875f947",
   "metadata": {},
   "outputs": [
    {
     "name": "stdout",
     "output_type": "stream",
     "text": [
      "['Sydney', 'Melbourne', 'Brisbane', 'Perth', 'Adelaide', 'Hobart', 'Canberra', 'Darwin']\n"
     ]
    }
   ],
   "source": [
    "print(cities[:])"
   ]
  },
  {
   "cell_type": "code",
   "execution_count": 13,
   "id": "0c44c120-58df-4115-9210-e3c878581d89",
   "metadata": {},
   "outputs": [
    {
     "name": "stdout",
     "output_type": "stream",
     "text": [
      "[1, 4, 9, 16, 25]\n",
      "[1, 4, 9, 16]\n"
     ]
    }
   ],
   "source": [
    "squares = [1, 4, 9, 16, 25]\n",
    "print(squares)\n",
    "\n",
    "del squares[4]\n",
    "print(squares)"
   ]
  },
  {
   "cell_type": "code",
   "execution_count": 14,
   "id": "8111ed7e-ed36-4532-956e-186a1d47ea0b",
   "metadata": {},
   "outputs": [
    {
     "name": "stdout",
     "output_type": "stream",
     "text": [
      "[1, 4, 9, 16, 25]\n",
      "[1, 4, 9]\n"
     ]
    }
   ],
   "source": [
    "squares = [1, 4, 9, 16, 25]\n",
    "print(squares)\n",
    "\n",
    "del squares[3:]\n",
    "print(squares)"
   ]
  },
  {
   "cell_type": "code",
   "execution_count": 15,
   "id": "93c96c8e-2c95-4179-bcd0-907598d17270",
   "metadata": {},
   "outputs": [
    {
     "name": "stdout",
     "output_type": "stream",
     "text": [
      "[1, 4, 9, 16, 25]\n",
      "[1, 4, 9, 16, 25, 36]\n"
     ]
    }
   ],
   "source": [
    "squares = [1, 4, 9, 16, 25]\n",
    "print(squares)\n",
    "\n",
    "squares.append(36)\n",
    "print(squares)"
   ]
  },
  {
   "cell_type": "code",
   "execution_count": 21,
   "id": "e681aa95-cf0b-4df1-af22-cc791664a5da",
   "metadata": {},
   "outputs": [
    {
     "name": "stdout",
     "output_type": "stream",
     "text": [
      "[1, 4, 9, 16, 25, 49]\n",
      "[1, 4, 9, 16, 25, 36, 49]\n"
     ]
    }
   ],
   "source": [
    "squares = [1, 4, 9, 16, 25, 49]\n",
    "print(squares)\n",
    "\n",
    "squares.insert(5, 36)\n",
    "print(squares)"
   ]
  },
  {
   "cell_type": "code",
   "execution_count": 25,
   "id": "0c2b03bb-abd3-4fe1-b488-f0c78c0b8fd5",
   "metadata": {},
   "outputs": [
    {
     "name": "stdout",
     "output_type": "stream",
     "text": [
      "Sydney | Melbourne | Brisbane | Perth | Adelaide | Hobart | Canberra | Darwin | "
     ]
    }
   ],
   "source": [
    "cities = [\n",
    "    'Sydney', 'Melbourne', 'Brisbane', 'Perth', 'Adelaide', 'Hobart', 'Canberra', 'Darwin'\n",
    "]\n",
    "for city in cities:\n",
    "    print(city, end = ' | ')\n"
   ]
  },
  {
   "cell_type": "code",
   "execution_count": 35,
   "id": "d1951e9d-03b4-4302-8716-41321a53a6ef",
   "metadata": {},
   "outputs": [
    {
     "name": "stdout",
     "output_type": "stream",
     "text": [
      "0: Sydney\n",
      "1: Melbourne\n",
      "2: Brisbane\n",
      "3: Perth\n",
      "4: Adelaide\n",
      "5: Hobart\n",
      "6: Canberra\n",
      "7: Darwin\n"
     ]
    }
   ],
   "source": [
    "for index in range(len(cities)):\n",
    "    print(str(index) + ':', cities[index])"
   ]
  },
  {
   "cell_type": "code",
   "execution_count": 39,
   "id": "0094d2b1-3f8d-4181-ab6c-909dafc20478",
   "metadata": {},
   "outputs": [
    {
     "name": "stdout",
     "output_type": "stream",
     "text": [
      "$33.5\n"
     ]
    }
   ],
   "source": [
    "daily_expenses = [12.5, 15, 6];\n",
    "total_expenses = 0\n",
    "\n",
    "for expense in daily_expenses:\n",
    "    total_expenses += expense\n",
    "\n",
    "print('$' + str(total_expenses))    "
   ]
  },
  {
   "cell_type": "code",
   "execution_count": 40,
   "id": "14be9e38-bb6a-4651-809e-eb5dbd4de1fc",
   "metadata": {},
   "outputs": [
    {
     "name": "stdout",
     "output_type": "stream",
     "text": [
      "Numbers of months with low spendings: 1, normal spendings: 5, high spendings: 6."
     ]
    }
   ],
   "source": [
    "spendings = [1346.0, 987.50, 1734.40, 2567.0, 3271.45, 2500.0, 2130.0, 2510.30, 2987.34, 3120.50, 4069.78, 1000.0]\n",
    "\n",
    "x = 0\n",
    "y = 0\n",
    "z = 0\n",
    "\n",
    "for spend in spendings:\n",
    "    if spend < 1000.0:\n",
    "        x += 1\n",
    "    elif spend >= 1000.0 and spend <= 2500.0:\n",
    "        y += 1\n",
    "    elif spend > 2500.0:\n",
    "        z += 1\n",
    "    else:\n",
    "        continue\n",
    "        \n",
    "print('Numbers of months with low spendings:', str(x) + ', normal spendings:', str(y) + ', high spendings:', z, end = '.')        "
   ]
  }
 ],
 "metadata": {
  "kernelspec": {
   "display_name": "Python [conda env:base] *",
   "language": "python",
   "name": "conda-base-py"
  },
  "language_info": {
   "codemirror_mode": {
    "name": "ipython",
    "version": 3
   },
   "file_extension": ".py",
   "mimetype": "text/x-python",
   "name": "python",
   "nbconvert_exporter": "python",
   "pygments_lexer": "ipython3",
   "version": "3.13.5"
  }
 },
 "nbformat": 4,
 "nbformat_minor": 5
}
