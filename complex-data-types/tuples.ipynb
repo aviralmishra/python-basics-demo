{
 "cells": [
  {
   "cell_type": "code",
   "execution_count": 2,
   "id": "d79d2a2a-c7cb-4c12-96bf-a2687fef1ffd",
   "metadata": {},
   "outputs": [
    {
     "name": "stdout",
     "output_type": "stream",
     "text": [
      "(1,)\n",
      "(1,)\n"
     ]
    }
   ],
   "source": [
    "# tuples\n",
    "\n",
    "empty_tuple = ()\n",
    "\n",
    "one_element_tuple_a = (1, )\n",
    "one_element_tuple_b = 1,\n",
    "\n",
    "print(one_element_tuple_a)\n",
    "print(one_element_tuple_b)"
   ]
  },
  {
   "cell_type": "code",
   "execution_count": 3,
   "id": "34cf4ced-4343-4677-82de-4493c2e9b635",
   "metadata": {},
   "outputs": [
    {
     "name": "stdout",
     "output_type": "stream",
     "text": [
      "(1, 2, 3)\n"
     ]
    }
   ],
   "source": [
    "three_element_tuple = 1, 2, 3\n",
    "print(three_element_tuple)"
   ]
  },
  {
   "cell_type": "code",
   "execution_count": 6,
   "id": "9170aa29-58f0-4db5-bcd8-c4b13eaccc8e",
   "metadata": {},
   "outputs": [
    {
     "name": "stdout",
     "output_type": "stream",
     "text": [
      "('Sydney', 'Wollongong', 'New Castle')\n"
     ]
    }
   ],
   "source": [
    "a_tuple = ('Sydney', 'Wollongong')\n",
    "b_tuple = a_tuple + ('New Castle',)\n",
    "\n",
    "print(b_tuple)\n"
   ]
  },
  {
   "cell_type": "code",
   "execution_count": 7,
   "id": "824a4f86-4445-4ebe-9d5b-b041b1ab9374",
   "metadata": {},
   "outputs": [
    {
     "name": "stdout",
     "output_type": "stream",
     "text": [
      "(0, 1, 0, 1, 0, 1, 0, 1, 0, 1, 0, 1, 0, 1, 0, 1, 0, 1, 0, 1)\n"
     ]
    }
   ],
   "source": [
    "a_tuple = (0, 1) * 10\n",
    "print(a_tuple)"
   ]
  },
  {
   "cell_type": "code",
   "execution_count": 9,
   "id": "5607ba17-c597-47ed-a854-24d6f113a6a9",
   "metadata": {},
   "outputs": [
    {
     "name": "stdout",
     "output_type": "stream",
     "text": [
      "\n",
      "\n",
      "jsmith  |  Sydney  |  31  |  John Smith  |  \n",
      "\n",
      "msmith  |  Sydney  |  34  |  Mark Smith  |  "
     ]
    }
   ],
   "source": [
    "users = [\n",
    "    ('jsmith', 'Sydney', '31', 'John Smith'),\n",
    "    ('msmith', 'Sydney', '34', 'Mark Smith')\n",
    "]\n",
    "\n",
    "for user in users:\n",
    "    print('\\n')\n",
    "    for elem in user:\n",
    "        print(elem, end = '  |  ')"
   ]
  },
  {
   "cell_type": "code",
   "execution_count": 11,
   "id": "dc066167-6baa-4f34-a812-1df10ba09fc0",
   "metadata": {},
   "outputs": [
    {
     "name": "stdout",
     "output_type": "stream",
     "text": [
      "5 10\n",
      "10 5\n"
     ]
    }
   ],
   "source": [
    "first = 5\n",
    "second= 10\n",
    "print(first, second)\n",
    "\n",
    "first, second = second, first\n",
    "print(first, second)"
   ]
  },
  {
   "cell_type": "code",
   "execution_count": null,
   "id": "4f01ec6d-8749-4f4a-ba19-eaf4098e468f",
   "metadata": {},
   "outputs": [],
   "source": []
  }
 ],
 "metadata": {
  "kernelspec": {
   "display_name": "Python [conda env:base] *",
   "language": "python",
   "name": "conda-base-py"
  },
  "language_info": {
   "codemirror_mode": {
    "name": "ipython",
    "version": 3
   },
   "file_extension": ".py",
   "mimetype": "text/x-python",
   "name": "python",
   "nbconvert_exporter": "python",
   "pygments_lexer": "ipython3",
   "version": "3.13.5"
  }
 },
 "nbformat": 4,
 "nbformat_minor": 5
}
