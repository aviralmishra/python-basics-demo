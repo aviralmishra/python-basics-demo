{
 "cells": [
  {
   "cell_type": "code",
   "execution_count": 5,
   "id": "60f1f690-c991-44af-9305-1a59b503ec79",
   "metadata": {},
   "outputs": [
    {
     "name": "stdout",
     "output_type": "stream",
     "text": [
      "Car X in Blue starts at 10 kms/hr.\n",
      "Setting make to empty\n",
      "Setting color to empty\n",
      "Setting _Car__speed to empty\n",
      "Car  in  starts at  kms/hr.\n"
     ]
    }
   ],
   "source": [
    "# introspection is the ability of a program to check an object's type and properties at runtime\n",
    "# reflection is the ability of a program to change an object's methods and properties at runtime\n",
    "\n",
    "class Car():\n",
    "    number_of_cars = 0 # class variable\n",
    "    \n",
    "    def __init__(self, make, color, initial_speed):\n",
    "        self.make = make\n",
    "        self.color = color\n",
    "\n",
    "        if initial_speed < 0:\n",
    "            self.__speed = 0\n",
    "        else:\n",
    "            self.__speed = initial_speed\n",
    "\n",
    "        Car.number_of_cars += 1\n",
    "\n",
    "    def get_speed(self):\n",
    "        return self.__speed\n",
    "\n",
    "    def __str__(self):\n",
    "        return 'Car ' + self.make + ' in ' + self.color    \n",
    "\n",
    "def set_strings_to_empty(car_instance):\n",
    "    for prop_name in car_instance.__dict__.keys():\n",
    "        prop_value = getattr(car_instance, prop_name)\n",
    "        if isinstance(prop_name, str):\n",
    "            print('Setting', prop_name, 'to empty')\n",
    "            setattr(car_instance, prop_name, '')\n",
    "\n",
    "my_car = Car('X', 'Blue', 10)         \n",
    "print(my_car, 'starts at', my_car.get_speed(), 'kms/hr.')\n",
    "\n",
    "set_strings_to_empty(my_car)\n",
    "print(my_car, 'starts at', my_car.get_speed(), 'kms/hr.')\n"
   ]
  },
  {
   "cell_type": "code",
   "execution_count": null,
   "id": "57801cc0-3b63-47b1-a103-53703400aee1",
   "metadata": {},
   "outputs": [],
   "source": []
  }
 ],
 "metadata": {
  "kernelspec": {
   "display_name": "Python [conda env:base] *",
   "language": "python",
   "name": "conda-base-py"
  },
  "language_info": {
   "codemirror_mode": {
    "name": "ipython",
    "version": 3
   },
   "file_extension": ".py",
   "mimetype": "text/x-python",
   "name": "python",
   "nbconvert_exporter": "python",
   "pygments_lexer": "ipython3",
   "version": "3.13.5"
  }
 },
 "nbformat": 4,
 "nbformat_minor": 5
}
