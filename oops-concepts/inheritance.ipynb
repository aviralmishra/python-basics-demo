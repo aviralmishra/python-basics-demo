{
 "cells": [
  {
   "cell_type": "code",
   "execution_count": 27,
   "id": "60f1f690-c991-44af-9305-1a59b503ec79",
   "metadata": {},
   "outputs": [
    {
     "name": "stdout",
     "output_type": "stream",
     "text": [
      "Base car...\n",
      "Car X in Blue starts at 10 kms/hr.\n",
      "\n",
      "Modern car 1...\n",
      "Subclass? True\n",
      "ModernCar T in Red is self-driven.\n",
      "\n",
      "Modern car 2...\n",
      "Subclass? True\n",
      "ModernCar Y in Yellow is not self-driven.\n",
      "300\n",
      "3\n"
     ]
    }
   ],
   "source": [
    "class Car():\n",
    "    number_of_cars = 0 # class variable\n",
    "    \n",
    "    def __init__(self, make, color, initial_speed):\n",
    "        self.make = make\n",
    "        self.color = color\n",
    "\n",
    "        if initial_speed < 0:\n",
    "            self.__speed = 0\n",
    "        else:\n",
    "            self.__speed = initial_speed\n",
    "\n",
    "        Car.number_of_cars += 1\n",
    "\n",
    "    def get_speed(self):\n",
    "        return self.__speed\n",
    "\n",
    "    def __str__(self):\n",
    "        return 'Car ' + self.make + ' in ' + self.color    \n",
    "\n",
    "class ModernCar(Car):\n",
    "    def __init__(self, make, color, initial_speed, is_self_driven):\n",
    "        super().__init__(make, color, initial_speed)\n",
    "        self.is_self_driven = is_self_driven\n",
    "    \n",
    "    def get_speed(self):\n",
    "        return super().get_speed() * 10\n",
    "    \n",
    "    def __str__(self):\n",
    "        return 'ModernCar ' + self.make + ' in ' + self.color  + ' is ' + ('self-driven' if self.is_self_driven else 'not self-driven') + '.'         \n",
    "    \n",
    "print('Base car...')\n",
    "my_car = Car('X', 'Blue', 10)         \n",
    "print(my_car, 'starts at', my_car.get_speed(), 'kms/hr.')\n",
    "\n",
    "print('\\nModern car 1...')\n",
    "my_modern_car1 = ModernCar('T', 'Red', 20, True)\n",
    "print('Subclass?', issubclass(ModernCar, Car))\n",
    "print(my_modern_car1)\n",
    "\n",
    "print('\\nModern car 2...')\n",
    "my_modern_car2 = ModernCar('Y', 'Yellow', 30, False)\n",
    "print('Subclass?', issubclass(ModernCar, Car))\n",
    "print(my_modern_car2)\n",
    "print(my_modern_car2.get_speed())\n",
    "\n",
    "print(my_modern_car2.number_of_cars)\n"
   ]
  },
  {
   "cell_type": "code",
   "execution_count": null,
   "id": "57801cc0-3b63-47b1-a103-53703400aee1",
   "metadata": {},
   "outputs": [],
   "source": []
  }
 ],
 "metadata": {
  "kernelspec": {
   "display_name": "Python [conda env:base] *",
   "language": "python",
   "name": "conda-base-py"
  },
  "language_info": {
   "codemirror_mode": {
    "name": "ipython",
    "version": 3
   },
   "file_extension": ".py",
   "mimetype": "text/x-python",
   "name": "python",
   "nbconvert_exporter": "python",
   "pygments_lexer": "ipython3",
   "version": "3.13.5"
  }
 },
 "nbformat": 4,
 "nbformat_minor": 5
}
