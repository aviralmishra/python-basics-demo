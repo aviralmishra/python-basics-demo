{
 "cells": [
  {
   "cell_type": "code",
   "execution_count": 14,
   "id": "60f1f690-c991-44af-9305-1a59b503ec79",
   "metadata": {},
   "outputs": [
    {
     "name": "stdout",
     "output_type": "stream",
     "text": [
      "{'make': 'X', 'color': 'Blue', '_Car__speed': 10}\n",
      "{'make': 'X', '_Car__speed': 10}\n",
      "{'make': 'X', '_Car__speed': 10, 'model': 'X1'}\n"
     ]
    }
   ],
   "source": [
    "class Car():\n",
    "    def __init__(self, make, color, initial_speed):\n",
    "        self.make = make\n",
    "        self.color = color\n",
    "\n",
    "        if initial_speed < 0:\n",
    "            self.__speed = 0\n",
    "        else:\n",
    "            self.__speed = initial_speed\n",
    "\n",
    "my_car = Car('X', 'Blue', 10)         \n",
    "print(my_car.__dict__)\n",
    "\n",
    "del my_car.color\n",
    "print(my_car.__dict__)\n",
    "\n",
    "my_car.model = 'X1'\n",
    "print(my_car.__dict__)\n"
   ]
  },
  {
   "cell_type": "code",
   "execution_count": null,
   "id": "57801cc0-3b63-47b1-a103-53703400aee1",
   "metadata": {},
   "outputs": [],
   "source": []
  }
 ],
 "metadata": {
  "kernelspec": {
   "display_name": "Python [conda env:base] *",
   "language": "python",
   "name": "conda-base-py"
  },
  "language_info": {
   "codemirror_mode": {
    "name": "ipython",
    "version": 3
   },
   "file_extension": ".py",
   "mimetype": "text/x-python",
   "name": "python",
   "nbconvert_exporter": "python",
   "pygments_lexer": "ipython3",
   "version": "3.13.5"
  }
 },
 "nbformat": 4,
 "nbformat_minor": 5
}
