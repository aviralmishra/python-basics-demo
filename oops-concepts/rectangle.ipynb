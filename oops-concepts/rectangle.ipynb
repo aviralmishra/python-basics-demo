{
 "cells": [
  {
   "cell_type": "code",
   "execution_count": 10,
   "id": "d1006f2e-7ebd-44b7-83f5-1d37792fd486",
   "metadata": {},
   "outputs": [
    {
     "name": "stdout",
     "output_type": "stream",
     "text": [
      "The area of shape with dimensions 3 by 5 is 15\n",
      "The area of shape with dimensions 30 by 50 is 15\n"
     ]
    }
   ],
   "source": [
    "class Rectangle():\n",
    "    def __init__(self, width, height):\n",
    "        self.width = width\n",
    "        self.height = height\n",
    "\n",
    "    def calculate_area(self):\n",
    "        return self.width * self.height\n",
    "\n",
    "rectangle1 = Rectangle(3, 5)    \n",
    "print('The area of shape with dimensions', rectangle1.width, 'by', rectangle1.height, 'is', rectangle1.calculate_area())\n",
    "\n",
    "rectangle2 = Rectangle(30, 50)    \n",
    "print('The area of shape with dimensions', rectangle2.width, 'by', rectangle2.height, 'is', rectangle1.calculate_area())"
   ]
  },
  {
   "cell_type": "code",
   "execution_count": null,
   "id": "60f1f690-c991-44af-9305-1a59b503ec79",
   "metadata": {},
   "outputs": [],
   "source": []
  }
 ],
 "metadata": {
  "kernelspec": {
   "display_name": "Python [conda env:base] *",
   "language": "python",
   "name": "conda-base-py"
  },
  "language_info": {
   "codemirror_mode": {
    "name": "ipython",
    "version": 3
   },
   "file_extension": ".py",
   "mimetype": "text/x-python",
   "name": "python",
   "nbconvert_exporter": "python",
   "pygments_lexer": "ipython3",
   "version": "3.13.5"
  }
 },
 "nbformat": 4,
 "nbformat_minor": 5
}
