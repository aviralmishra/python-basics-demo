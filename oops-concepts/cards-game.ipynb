{
 "cells": [
  {
   "cell_type": "code",
   "execution_count": 5,
   "id": "aa5c1afc-9491-4ec8-9609-e4a9a9e76f95",
   "metadata": {},
   "outputs": [
    {
     "name": "stdout",
     "output_type": "stream",
     "text": [
      "52 , ['Ace of hearts', '2 of hearts', '3 of hearts', '4 of hearts', '5 of hearts', '6 of hearts', '7 of hearts', '8 of hearts', '9 of hearts', '10 of hearts', 'Jack of hearts', 'Queen of hearts', 'King of hearts', 'Ace of diamonds', '2 of diamonds', '3 of diamonds', '4 of diamonds', '5 of diamonds', '6 of diamonds', '7 of diamonds', '8 of diamonds', '9 of diamonds', '10 of diamonds', 'Jack of diamonds', 'Queen of diamonds', 'King of diamonds', 'Ace of clubs', '2 of clubs', '3 of clubs', '4 of clubs', '5 of clubs', '6 of clubs', '7 of clubs', '8 of clubs', '9 of clubs', '10 of clubs', 'Jack of clubs', 'Queen of clubs', 'King of clubs', 'Ace of spades', '2 of spades', '3 of spades', '4 of spades', '5 of spades', '6 of spades', '7 of spades', '8 of spades', '9 of spades', '10 of spades', 'Jack of spades', 'Queen of spades', 'King of spades']\n",
      "-------------------------------------------------\n",
      "52 , ['2 of diamonds', '7 of diamonds', '5 of clubs', 'Jack of diamonds', '9 of spades', '4 of clubs', 'Queen of spades', '9 of diamonds', '7 of spades', '6 of diamonds', '7 of clubs', '7 of hearts', '6 of clubs', '10 of diamonds', '9 of hearts', '4 of diamonds', '5 of spades', 'Queen of diamonds', 'Jack of hearts', '8 of diamonds', '3 of clubs', 'King of spades', 'Jack of spades', '8 of spades', '10 of clubs', '6 of hearts', '5 of hearts', '3 of spades', '10 of hearts', '8 of clubs', 'King of diamonds', 'Queen of hearts', 'King of clubs', 'Ace of diamonds', '4 of hearts', '2 of hearts', 'Ace of clubs', '9 of clubs', '10 of spades', '2 of clubs', 'Ace of spades', 'Jack of clubs', '8 of hearts', 'King of hearts', 'Ace of hearts', '4 of spades', '2 of spades', '3 of hearts', '6 of spades', '3 of diamonds', '5 of diamonds', 'Queen of clubs']\n",
      "-------------------------------------------------\n",
      "51 , ['2 of diamonds', '7 of diamonds', '5 of clubs', 'Jack of diamonds', '9 of spades', '4 of clubs', 'Queen of spades', '9 of diamonds', '7 of spades', '6 of diamonds', '7 of clubs', '7 of hearts', '6 of clubs', '10 of diamonds', '9 of hearts', '4 of diamonds', '5 of spades', 'Queen of diamonds', 'Jack of hearts', '8 of diamonds', '3 of clubs', 'King of spades', 'Jack of spades', '8 of spades', '10 of clubs', '6 of hearts', '5 of hearts', '3 of spades', '10 of hearts', '8 of clubs', 'King of diamonds', 'Queen of hearts', 'King of clubs', 'Ace of diamonds', '4 of hearts', '2 of hearts', 'Ace of clubs', '9 of clubs', '10 of spades', '2 of clubs', 'Ace of spades', 'Jack of clubs', '8 of hearts', 'King of hearts', 'Ace of hearts', '4 of spades', '2 of spades', '3 of hearts', '6 of spades', '3 of diamonds', '5 of diamonds']\n"
     ]
    }
   ],
   "source": [
    "from random import shuffle\n",
    " \n",
    "class Card:\n",
    "\tdef __init__(self, suit, value):\n",
    "\t\tself.suit = suit\n",
    "\t\tself.value = value\n",
    " \n",
    "\tdef present(self):\n",
    "\t\treturn self.value + ' of ' + self.suit \n",
    " \n",
    "class Deck:\n",
    "\tdef __init__(self):\n",
    "\t\tsuits = ['hearts', 'diamonds', 'clubs', 'spades']\n",
    "\t\tvalues = ['Ace', '2', '3', '4', '5', '6', '7', '8', '9', '10', 'Jack', 'Queen', 'King']\n",
    "\t\tself.cards = [Card(suit, value) for suit in suits for value in values]\n",
    "\n",
    "\tdef shuffle(self):\n",
    "\t\tshuffle(self.cards)\n",
    "\n",
    "\tdef deal(self):\n",
    "\t\tif len(self.cards) == 0:\n",
    "\t\t\treturn None\n",
    "\t\treturn self.cards.pop()\n",
    "\n",
    "\tdef count_remaining(self):\n",
    "\t\treturn len(self.cards)\n",
    "\t\n",
    "\tdef get_remaining(self):\n",
    "\t\treturn [x.present() for x in self.cards]\n",
    "\n",
    "deck = Deck()\n",
    "print(deck.count_remaining(), ',', deck.get_remaining())\n",
    "\n",
    "print('-------------------------------------------------')\n",
    "\n",
    "deck.shuffle()\n",
    "print(deck.count_remaining(), ',', deck.get_remaining())\n",
    "\n",
    "print('-------------------------------------------------')\n",
    "\n",
    "deck.deal()\n",
    "print(deck.count_remaining(), ',', deck.get_remaining())\n",
    "\n"
   ]
  },
  {
   "cell_type": "code",
   "execution_count": null,
   "id": "cce3e70c-b7c9-442a-8717-c64acbf2c4d0",
   "metadata": {},
   "outputs": [],
   "source": []
  }
 ],
 "metadata": {
  "kernelspec": {
   "display_name": "Python [conda env:base] *",
   "language": "python",
   "name": "conda-base-py"
  },
  "language_info": {
   "codemirror_mode": {
    "name": "ipython",
    "version": 3
   },
   "file_extension": ".py",
   "mimetype": "text/x-python",
   "name": "python",
   "nbconvert_exporter": "python",
   "pygments_lexer": "ipython3",
   "version": "3.13.5"
  }
 },
 "nbformat": 4,
 "nbformat_minor": 5
}
