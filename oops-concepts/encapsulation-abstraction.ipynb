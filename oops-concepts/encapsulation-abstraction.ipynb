{
 "cells": [
  {
   "cell_type": "code",
   "execution_count": 9,
   "id": "60f1f690-c991-44af-9305-1a59b503ec79",
   "metadata": {},
   "outputs": [
    {
     "name": "stdout",
     "output_type": "stream",
     "text": [
      "Car X in Blue starts at 10 kms/hr.\n",
      "Car X in Blue is now at 0 kms/hr.\n"
     ]
    }
   ],
   "source": [
    "class Car():\n",
    "    def __init__(self, make, color, initial_speed):\n",
    "        self.make = make\n",
    "        self.color = color\n",
    "\n",
    "        if initial_speed < 0:\n",
    "            self.__speed = 0\n",
    "        else:\n",
    "            self.__speed = initial_speed\n",
    "\n",
    "    def speed_up(self):     \n",
    "        self.__speed += 10\n",
    "\n",
    "    def slow_down(self, kms):\n",
    "        if self.__speed < 10:\n",
    "            self.__speed = 0\n",
    "        else:\n",
    "            self.__speed -= kms\n",
    "\n",
    "    def get_speed(self):\n",
    "        return self.__speed\n",
    "\n",
    "    def __str__(self):\n",
    "        return 'Car ' + self.make + ' in ' + self.color\n",
    "        \n",
    "my_car = Car('X', 'Blue', 10)         \n",
    "print(my_car, 'starts at', my_car.get_speed(), 'kms/hr.')\n",
    "\n",
    "my_car.speed_up()\n",
    "my_car.slow_down(10)\n",
    "my_car.slow_down(5)\n",
    "my_car.slow_down(5)\n",
    "print(my_car, 'is now at', my_car.get_speed(), 'kms/hr.')\n"
   ]
  },
  {
   "cell_type": "code",
   "execution_count": null,
   "id": "57801cc0-3b63-47b1-a103-53703400aee1",
   "metadata": {},
   "outputs": [],
   "source": []
  }
 ],
 "metadata": {
  "kernelspec": {
   "display_name": "Python [conda env:base] *",
   "language": "python",
   "name": "conda-base-py"
  },
  "language_info": {
   "codemirror_mode": {
    "name": "ipython",
    "version": 3
   },
   "file_extension": ".py",
   "mimetype": "text/x-python",
   "name": "python",
   "nbconvert_exporter": "python",
   "pygments_lexer": "ipython3",
   "version": "3.13.5"
  }
 },
 "nbformat": 4,
 "nbformat_minor": 5
}
