{
 "cells": [
  {
   "cell_type": "code",
   "execution_count": 21,
   "id": "60f1f690-c991-44af-9305-1a59b503ec79",
   "metadata": {},
   "outputs": [
    {
     "name": "stdout",
     "output_type": "stream",
     "text": [
      "Instance variables:\n",
      " {'make': 'X', 'color': 'Blue', '_Car__speed': 10}\n",
      "True\n",
      "False\n",
      "True\n",
      "Car\n",
      "__main__\n",
      "----------------------------------\n",
      "Class variables:\n",
      " {'__module__': '__main__', '__firstlineno__': 1, 'number_of_cars': 1, '__init__': <function Car.__init__ at 0x302348c20>, '__static_attributes__': ('__speed', 'color', 'make'), '__dict__': <attribute '__dict__' of 'Car' objects>, '__weakref__': <attribute '__weakref__' of 'Car' objects>, '__doc__': None}\n",
      "False\n",
      "__main__\n"
     ]
    }
   ],
   "source": [
    "class Car():\n",
    "    number_of_cars = 0 # class variable\n",
    "    \n",
    "    def __init__(self, make, color, initial_speed):\n",
    "        self.make = make\n",
    "        self.color = color\n",
    "\n",
    "        if initial_speed < 0:\n",
    "            self.__speed = 0\n",
    "        else:\n",
    "            self.__speed = initial_speed\n",
    "\n",
    "        Car.number_of_cars += 1\n",
    "\n",
    "\n",
    "my_car1 = Car('X', 'Blue', 10)         \n",
    "print('Instance variables:\\n', my_car1.__dict__)\n",
    "print(hasattr(my_car1, 'make'))\n",
    "print(hasattr(my_car1, '__speed'))\n",
    "print(hasattr(my_car1, '_Car__speed'))\n",
    "print(type(my_car1).__name__)\n",
    "print(my_car1.__module__)\n",
    "\n",
    "print('----------------------------------')\n",
    "\n",
    "print('Class variables:\\n', Car.__dict__)\n",
    "print(hasattr(Car, 'make'))\n",
    "print(Car.__module__)\n"
   ]
  },
  {
   "cell_type": "code",
   "execution_count": null,
   "id": "57801cc0-3b63-47b1-a103-53703400aee1",
   "metadata": {},
   "outputs": [],
   "source": []
  }
 ],
 "metadata": {
  "kernelspec": {
   "display_name": "Python [conda env:base] *",
   "language": "python",
   "name": "conda-base-py"
  },
  "language_info": {
   "codemirror_mode": {
    "name": "ipython",
    "version": 3
   },
   "file_extension": ".py",
   "mimetype": "text/x-python",
   "name": "python",
   "nbconvert_exporter": "python",
   "pygments_lexer": "ipython3",
   "version": "3.13.5"
  }
 },
 "nbformat": 4,
 "nbformat_minor": 5
}
