{
 "cells": [
  {
   "cell_type": "code",
   "execution_count": 1,
   "id": "c1cfc9df-5a04-45a2-8dfd-4e774e083df0",
   "metadata": {},
   "outputs": [],
   "source": [
    "multiply_by_2 = lambda x: x * 2\n",
    "initial_list = [1, 2, 3, 4, 5]"
   ]
  },
  {
   "cell_type": "code",
   "execution_count": 2,
   "id": "444c667a-c223-49ed-8ae0-18fad4828bfc",
   "metadata": {},
   "outputs": [
    {
     "name": "stdout",
     "output_type": "stream",
     "text": [
      "2\n",
      "4\n"
     ]
    }
   ],
   "source": [
    "processed_list_itr = map(multiply_by_2, initial_list) # returns an iterator\n",
    "print(next(processed_list_itr))\n",
    "print(next(processed_list_itr))"
   ]
  },
  {
   "cell_type": "code",
   "execution_count": 3,
   "id": "41864891-6447-4c29-8a5b-22668eac1167",
   "metadata": {},
   "outputs": [
    {
     "name": "stdout",
     "output_type": "stream",
     "text": [
      "[2, 4, 6, 8, 10]\n"
     ]
    }
   ],
   "source": [
    "processed_list_itr = map(multiply_by_2, initial_list) # returns an iterator\n",
    "print(list(processed_list_itr))"
   ]
  },
  {
   "cell_type": "code",
   "execution_count": 4,
   "id": "c50ed7a3-f131-467a-951f-13b151887489",
   "metadata": {},
   "outputs": [
    {
     "name": "stdout",
     "output_type": "stream",
     "text": [
      "[2, 4, 6, 8, 10]\n"
     ]
    }
   ],
   "source": [
    "# map\n",
    "print(list(map(lambda x: x * 2, initial_list)))"
   ]
  },
  {
   "cell_type": "code",
   "execution_count": 5,
   "id": "d8a0077a-7087-47a8-9f67-25fb3c1ec073",
   "metadata": {},
   "outputs": [
    {
     "name": "stdout",
     "output_type": "stream",
     "text": [
      "[2, 4]\n"
     ]
    }
   ],
   "source": [
    "# filter\n",
    "print(list(filter(lambda x: x % 2 == 0, initial_list)))"
   ]
  },
  {
   "cell_type": "code",
   "execution_count": null,
   "id": "ac242308-2e0a-48a4-ac56-4033351b772b",
   "metadata": {},
   "outputs": [],
   "source": []
  }
 ],
 "metadata": {
  "kernelspec": {
   "display_name": "Python [conda env:base] *",
   "language": "python",
   "name": "conda-base-py"
  },
  "language_info": {
   "codemirror_mode": {
    "name": "ipython",
    "version": 3
   },
   "file_extension": ".py",
   "mimetype": "text/x-python",
   "name": "python",
   "nbconvert_exporter": "python",
   "pygments_lexer": "ipython3",
   "version": "3.13.5"
  }
 },
 "nbformat": 4,
 "nbformat_minor": 5
}
