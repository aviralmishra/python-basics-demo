{
 "cells": [
  {
   "cell_type": "code",
   "execution_count": 1,
   "id": "c1cfc9df-5a04-45a2-8dfd-4e774e083df0",
   "metadata": {},
   "outputs": [
    {
     "name": "stdout",
     "output_type": "stream",
     "text": [
      "90\n"
     ]
    }
   ],
   "source": [
    "sum = lambda x, y: x + y\n",
    "print(sum(15, 75))"
   ]
  },
  {
   "cell_type": "code",
   "execution_count": 2,
   "id": "e27e02a4-e648-4ee0-b99a-38ab3ecbdae9",
   "metadata": {},
   "outputs": [],
   "source": [
    "def apply_my_op(my_list, my_op):\n",
    "    return [my_op(el) for el in my_list]"
   ]
  },
  {
   "cell_type": "code",
   "execution_count": 3,
   "id": "d24e8c12-9d25-477c-9f5b-992e7c9e9ae4",
   "metadata": {},
   "outputs": [
    {
     "name": "stdout",
     "output_type": "stream",
     "text": [
      "[1, 4, 9, 16, 25]\n",
      "[1, 8, 27, 64, 125]\n",
      "[1.0, 0.5, 0.3333333333333333, 0.25, 0.2]\n"
     ]
    }
   ],
   "source": [
    "# anonymous lambda\n",
    "print(apply_my_op([1, 2, 3, 4, 5], lambda x: x * x))\n",
    "print(apply_my_op([1, 2, 3, 4, 5], lambda x: x * x * x))\n",
    "print(apply_my_op([1, 2, 3, 4, 5], lambda x: 1 / x))"
   ]
  },
  {
   "cell_type": "code",
   "execution_count": 4,
   "id": "db31cc67-9b9b-4167-9b6d-47d5a564833f",
   "metadata": {},
   "outputs": [
    {
     "name": "stdout",
     "output_type": "stream",
     "text": [
      "[1, 4, 9, 16, 25]\n",
      "[1, 8, 27, 64, 125]\n",
      "[1.0, 0.5, 0.3333333333333333, 0.25, 0.2]\n"
     ]
    }
   ],
   "source": [
    "# named lambda\n",
    "my_sq_op = lambda x: x * x\n",
    "my_cu_op = lambda x: x * x * x\n",
    "my_inv_op = lambda x: 1 / x\n",
    "\n",
    "print(apply_my_op([1, 2, 3, 4, 5], my_sq_op))\n",
    "print(apply_my_op([1, 2, 3, 4, 5], my_cu_op))\n",
    "print(apply_my_op([1, 2, 3, 4, 5], my_inv_op))    "
   ]
  },
  {
   "cell_type": "code",
   "execution_count": null,
   "id": "444c667a-c223-49ed-8ae0-18fad4828bfc",
   "metadata": {},
   "outputs": [],
   "source": []
  }
 ],
 "metadata": {
  "kernelspec": {
   "display_name": "Python [conda env:base] *",
   "language": "python",
   "name": "conda-base-py"
  },
  "language_info": {
   "codemirror_mode": {
    "name": "ipython",
    "version": 3
   },
   "file_extension": ".py",
   "mimetype": "text/x-python",
   "name": "python",
   "nbconvert_exporter": "python",
   "pygments_lexer": "ipython3",
   "version": "3.13.5"
  }
 },
 "nbformat": 4,
 "nbformat_minor": 5
}
