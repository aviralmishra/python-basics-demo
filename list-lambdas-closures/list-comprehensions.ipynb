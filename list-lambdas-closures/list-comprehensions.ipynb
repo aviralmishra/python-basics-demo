{
 "cells": [
  {
   "cell_type": "code",
   "execution_count": 1,
   "id": "d804e775-477d-46a8-b961-781407040a1d",
   "metadata": {},
   "outputs": [
    {
     "name": "stdout",
     "output_type": "stream",
     "text": [
      "[1, 2, 3, 4, 5, 6, 7, 8, 9, 10] "
     ]
    }
   ],
   "source": [
    "numbers = [i for i in range(1, 11)]\n",
    "print(numbers, end = ' ')"
   ]
  },
  {
   "cell_type": "code",
   "execution_count": 2,
   "id": "cbcb72c1-41e4-4f59-9d3e-1fb4ff261c53",
   "metadata": {},
   "outputs": [
    {
     "name": "stdout",
     "output_type": "stream",
     "text": [
      "[5, 10, 15, 20, 25, 30, 35, 40, 45, 50, 55, 60, 65, 70, 75, 80, 85, 90, 95, 100] "
     ]
    }
   ],
   "source": [
    "numbers = [i for i in range(1, 101) if (i % 5 == 0)]\n",
    "print(numbers, end = ' ')"
   ]
  },
  {
   "cell_type": "code",
   "execution_count": 3,
   "id": "be9c0db7-46b4-427f-a6a5-584e15bde61e",
   "metadata": {},
   "outputs": [
    {
     "name": "stdout",
     "output_type": "stream",
     "text": [
      "['h', 'e', 'l', 'l', 'o'] "
     ]
    }
   ],
   "source": [
    "chars = [ch for ch in 'hello']\n",
    "print(chars, end = ' ')"
   ]
  },
  {
   "cell_type": "code",
   "execution_count": 4,
   "id": "a3c76e13-3fa5-4890-93a8-29f42c64c46c",
   "metadata": {},
   "outputs": [
    {
     "name": "stdout",
     "output_type": "stream",
     "text": [
      "['e', 'o'] "
     ]
    }
   ],
   "source": [
    "def is_vowel(char):\n",
    "    \"\"\"\n",
    "    Checks if a given character is a vowel (a, e, i, o, u), case-insensitive.\n",
    "\n",
    "    Args:\n",
    "        char: The character to check (expected to be a single-character string).\n",
    "\n",
    "    Returns:\n",
    "        True if the character is a vowel, False otherwise.\n",
    "    \"\"\"\n",
    "    return char.lower() in 'aeiou'\n",
    "\n",
    "chars = [ch for ch in 'hello' if is_vowel(ch)]\n",
    "print(chars, end = ' ')"
   ]
  },
  {
   "cell_type": "code",
   "execution_count": 5,
   "id": "7ddf505b-a30b-45fb-a662-824efb8565f8",
   "metadata": {},
   "outputs": [
    {
     "name": "stdout",
     "output_type": "stream",
     "text": [
      "['e', 'o'] "
     ]
    }
   ],
   "source": [
    "chars = [ch for ch in 'hello' if ch.lower() in 'aeiou']\n",
    "print(chars, end = ' ')"
   ]
  },
  {
   "cell_type": "code",
   "execution_count": 6,
   "id": "bd233a6a-291a-4c3f-9b71-31064dd28476",
   "metadata": {},
   "outputs": [
    {
     "name": "stdout",
     "output_type": "stream",
     "text": [
      "[1, 2, 3, 4, 5, 6, 7, 8, 9, 10, 11, 12]\n",
      "[2, 4, 6, 8, 10, 12, 14, 16, 18, 20, 22, 24]\n",
      "[3, 6, 9, 12, 15, 18, 21, 24, 27, 30, 33, 36]\n",
      "[4, 8, 12, 16, 20, 24, 28, 32, 36, 40, 44, 48]\n",
      "[5, 10, 15, 20, 25, 30, 35, 40, 45, 50, 55, 60]\n"
     ]
    }
   ],
   "source": [
    "table = [[i * j for j in range(1, 13)] for i in range (1, 6)]\n",
    "\n",
    "for row in table:\n",
    "    print(row) "
   ]
  },
  {
   "cell_type": "code",
   "execution_count": null,
   "id": "1a158a74-3160-4d1e-a23f-814a995aec1d",
   "metadata": {},
   "outputs": [],
   "source": []
  }
 ],
 "metadata": {
  "kernelspec": {
   "display_name": "Python [conda env:base] *",
   "language": "python",
   "name": "conda-base-py"
  },
  "language_info": {
   "codemirror_mode": {
    "name": "ipython",
    "version": 3
   },
   "file_extension": ".py",
   "mimetype": "text/x-python",
   "name": "python",
   "nbconvert_exporter": "python",
   "pygments_lexer": "ipython3",
   "version": "3.13.5"
  }
 },
 "nbformat": 4,
 "nbformat_minor": 5
}
