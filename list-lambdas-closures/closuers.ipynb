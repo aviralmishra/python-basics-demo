{
 "cells": [
  {
   "cell_type": "code",
   "execution_count": 4,
   "id": "f772dbfd-1e8d-4c87-a389-2d7a18fc936a",
   "metadata": {},
   "outputs": [
    {
     "name": "stdout",
     "output_type": "stream",
     "text": [
      "10\n",
      "15\n",
      "20\n"
     ]
    }
   ],
   "source": [
    "'''\n",
    "    A closure is a function defined inside another function that remembers the values of the outer function.\n",
    "\n",
    "    We can nest functions in Python same as a for loop or if statement. \n",
    "    \n",
    "    The nested function has access to the variables available in the outer function. \n",
    "    \n",
    "    The nested function becomes a closure the moment it references a variable from the outer function.\n",
    "    \n",
    "    If we didn't reference any variables from the grid function, print grid would simply be called a nested function.\n",
    "'''\n",
    "def get_multiplier(x):\n",
    "\n",
    "    def multiply(y):\n",
    "        return x * y\n",
    "\n",
    "    return multiply # returning the closure\n",
    "\n",
    "multiplier_of_2 = get_multiplier(2)\n",
    "multiplier_of_3 = get_multiplier(3)\n",
    "\n",
    "print(multiplier_of_2(5))\n",
    "print(multiplier_of_3(5))\n",
    "print(get_multiplier(4)(5))"
   ]
  },
  {
   "cell_type": "code",
   "execution_count": null,
   "id": "0318011c-55da-4ad2-9847-c4821a0393c4",
   "metadata": {},
   "outputs": [],
   "source": []
  }
 ],
 "metadata": {
  "kernelspec": {
   "display_name": "Python [conda env:base] *",
   "language": "python",
   "name": "conda-base-py"
  },
  "language_info": {
   "codemirror_mode": {
    "name": "ipython",
    "version": 3
   },
   "file_extension": ".py",
   "mimetype": "text/x-python",
   "name": "python",
   "nbconvert_exporter": "python",
   "pygments_lexer": "ipython3",
   "version": "3.13.5"
  }
 },
 "nbformat": 4,
 "nbformat_minor": 5
}
