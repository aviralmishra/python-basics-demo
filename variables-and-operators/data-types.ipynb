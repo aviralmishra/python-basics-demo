{
 "cells": [
  {
   "cell_type": "code",
   "execution_count": 5,
   "id": "bf94b29e-354a-4167-8bfe-e4d4970018b1",
   "metadata": {},
   "outputs": [],
   "source": [
    "greeting = 'Hello, avi' # string"
   ]
  },
  {
   "cell_type": "code",
   "execution_count": 6,
   "id": "ddab3444-da87-4ddb-8d15-f332ef19ce1d",
   "metadata": {},
   "outputs": [],
   "source": [
    "age = 40 # integer"
   ]
  },
  {
   "cell_type": "code",
   "execution_count": 7,
   "id": "499de35a-777d-45fb-935e-221b55e096a8",
   "metadata": {},
   "outputs": [],
   "source": [
    "weight = 69.5 # float"
   ]
  },
  {
   "cell_type": "code",
   "execution_count": 8,
   "id": "9d3f56a6-8593-4085-8b6d-e822e4b0900e",
   "metadata": {},
   "outputs": [],
   "source": [
    "target_weight = 69. #float"
   ]
  },
  {
   "cell_type": "code",
   "execution_count": 11,
   "id": "f46df16a-2cc2-4578-bc5a-2b8b8b39ba90",
   "metadata": {},
   "outputs": [
    {
     "name": "stdout",
     "output_type": "stream",
     "text": [
      "True\n"
     ]
    }
   ],
   "source": [
    "workingRemotely = True\n",
    "print(workingRemotely)"
   ]
  },
  {
   "cell_type": "code",
   "execution_count": null,
   "id": "4d33ca8c-06b7-4e6c-99dc-4b6f62a77542",
   "metadata": {},
   "outputs": [],
   "source": []
  }
 ],
 "metadata": {
  "kernelspec": {
   "display_name": "Python [conda env:base] *",
   "language": "python",
   "name": "conda-base-py"
  },
  "language_info": {
   "codemirror_mode": {
    "name": "ipython",
    "version": 3
   },
   "file_extension": ".py",
   "mimetype": "text/x-python",
   "name": "python",
   "nbconvert_exporter": "python",
   "pygments_lexer": "ipython3",
   "version": "3.13.5"
  }
 },
 "nbformat": 4,
 "nbformat_minor": 5
}
