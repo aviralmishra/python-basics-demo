{
 "cells": [
  {
   "cell_type": "code",
   "execution_count": 1,
   "id": "c4f9dda6-a55f-484c-a5db-383254a65265",
   "metadata": {},
   "outputs": [
    {
     "data": {
      "text/plain": [
       "9"
      ]
     },
     "execution_count": 1,
     "metadata": {},
     "output_type": "execute_result"
    }
   ],
   "source": [
    "6 + 3"
   ]
  },
  {
   "cell_type": "code",
   "execution_count": 2,
   "id": "0203f962-2ba5-4f04-bccb-a661063df417",
   "metadata": {},
   "outputs": [
    {
     "data": {
      "text/plain": [
       "3"
      ]
     },
     "execution_count": 2,
     "metadata": {},
     "output_type": "execute_result"
    }
   ],
   "source": [
    "6 - 3"
   ]
  },
  {
   "cell_type": "code",
   "execution_count": 3,
   "id": "37b7f327-b692-47da-b424-1579e781708d",
   "metadata": {},
   "outputs": [
    {
     "data": {
      "text/plain": [
       "18"
      ]
     },
     "execution_count": 3,
     "metadata": {},
     "output_type": "execute_result"
    }
   ],
   "source": [
    "6 * 3"
   ]
  },
  {
   "cell_type": "code",
   "execution_count": 4,
   "id": "cb5b1a53-7de1-41a8-98f3-f96b4a5a9a8c",
   "metadata": {},
   "outputs": [
    {
     "data": {
      "text/plain": [
       "2.0"
      ]
     },
     "execution_count": 4,
     "metadata": {},
     "output_type": "execute_result"
    }
   ],
   "source": [
    "6 / 3"
   ]
  },
  {
   "cell_type": "code",
   "execution_count": 5,
   "id": "338a847f-4962-400a-80e1-7e91c521246b",
   "metadata": {},
   "outputs": [
    {
     "data": {
      "text/plain": [
       "2"
      ]
     },
     "execution_count": 5,
     "metadata": {},
     "output_type": "execute_result"
    }
   ],
   "source": [
    "6 // 3 # integer division"
   ]
  },
  {
   "cell_type": "code",
   "execution_count": 6,
   "id": "1f21b111-6aad-4391-9992-d41ad3a3448f",
   "metadata": {},
   "outputs": [
    {
     "data": {
      "text/plain": [
       "2"
      ]
     },
     "execution_count": 6,
     "metadata": {},
     "output_type": "execute_result"
    }
   ],
   "source": [
    "7 // 3 # integer division"
   ]
  },
  {
   "cell_type": "code",
   "execution_count": 7,
   "id": "e4dce5fa-407c-4335-a66f-bbee369f77e6",
   "metadata": {},
   "outputs": [
    {
     "data": {
      "text/plain": [
       "2.0"
      ]
     },
     "execution_count": 7,
     "metadata": {},
     "output_type": "execute_result"
    }
   ],
   "source": [
    "7.5 // 3 # integer division"
   ]
  },
  {
   "cell_type": "code",
   "execution_count": 8,
   "id": "e2291706-8d2e-4c06-8344-b3743e25a2a9",
   "metadata": {},
   "outputs": [
    {
     "data": {
      "text/plain": [
       "2"
      ]
     },
     "execution_count": 8,
     "metadata": {},
     "output_type": "execute_result"
    }
   ],
   "source": [
    "8 // 3 # integer division"
   ]
  },
  {
   "cell_type": "code",
   "execution_count": 9,
   "id": "5424b225-d22c-46a1-9faa-55fb19ed3ecd",
   "metadata": {},
   "outputs": [
    {
     "data": {
      "text/plain": [
       "2"
      ]
     },
     "execution_count": 9,
     "metadata": {},
     "output_type": "execute_result"
    }
   ],
   "source": [
    "8 % 3 # modulus division"
   ]
  },
  {
   "cell_type": "code",
   "execution_count": 10,
   "id": "01fff40e-6ed3-4c08-8576-8be857fddaf2",
   "metadata": {},
   "outputs": [
    {
     "data": {
      "text/plain": [
       "0"
      ]
     },
     "execution_count": 10,
     "metadata": {},
     "output_type": "execute_result"
    }
   ],
   "source": [
    "9 % 3 # modulus division"
   ]
  },
  {
   "cell_type": "code",
   "execution_count": 11,
   "id": "5b22c08f-eac7-4fa5-ad50-c2629259dd58",
   "metadata": {},
   "outputs": [
    {
     "data": {
      "text/plain": [
       "16"
      ]
     },
     "execution_count": 11,
     "metadata": {},
     "output_type": "execute_result"
    }
   ],
   "source": [
    "2 ** 4 # power "
   ]
  },
  {
   "cell_type": "code",
   "execution_count": null,
   "id": "816a81d4-61bf-4437-a23b-0eb315193bca",
   "metadata": {},
   "outputs": [],
   "source": []
  }
 ],
 "metadata": {
  "kernelspec": {
   "display_name": "Python [conda env:base] *",
   "language": "python",
   "name": "conda-base-py"
  },
  "language_info": {
   "codemirror_mode": {
    "name": "ipython",
    "version": 3
   },
   "file_extension": ".py",
   "mimetype": "text/x-python",
   "name": "python",
   "nbconvert_exporter": "python",
   "pygments_lexer": "ipython3",
   "version": "3.13.5"
  }
 },
 "nbformat": 4,
 "nbformat_minor": 5
}
