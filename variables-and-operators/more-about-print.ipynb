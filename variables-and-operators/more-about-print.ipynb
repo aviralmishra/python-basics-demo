{
 "cells": [
  {
   "cell_type": "code",
   "execution_count": 2,
   "id": "bd327d94-1bdc-4f3c-a0a3-fba46529060e",
   "metadata": {},
   "outputs": [
    {
     "name": "stdout",
     "output_type": "stream",
     "text": [
      "Hello world\n"
     ]
    }
   ],
   "source": [
    "print('Hello world')"
   ]
  },
  {
   "cell_type": "code",
   "execution_count": 4,
   "id": "2934307f-6805-4cba-923b-422308822b99",
   "metadata": {},
   "outputs": [
    {
     "name": "stdout",
     "output_type": "stream",
     "text": [
      "I'm studying Python\n"
     ]
    }
   ],
   "source": [
    "print('I\\'m studying Python')"
   ]
  },
  {
   "cell_type": "code",
   "execution_count": 6,
   "id": "e1a64ba1-2eec-46a5-81dc-07a5714f1090",
   "metadata": {},
   "outputs": [
    {
     "name": "stdout",
     "output_type": "stream",
     "text": [
      "I'm studying Python\n",
      "and having fun while at it\n"
     ]
    }
   ],
   "source": [
    "print('I\\'m studying Python')\n",
    "print('and having fun while at it')"
   ]
  },
  {
   "cell_type": "code",
   "execution_count": 7,
   "id": "80bc243b-e7fa-4f54-8398-51dcabb83d9f",
   "metadata": {},
   "outputs": [
    {
     "name": "stdout",
     "output_type": "stream",
     "text": [
      "I'm studying Python and having fun while at it\n"
     ]
    }
   ],
   "source": [
    "print('I\\'m studying Python', 'and having fun while at it')"
   ]
  },
  {
   "cell_type": "code",
   "execution_count": 8,
   "id": "b221839e-d3f1-4a99-9b6b-27e3be7b6a2d",
   "metadata": {},
   "outputs": [
    {
     "name": "stdout",
     "output_type": "stream",
     "text": [
      "I'm studying \n",
      " Python\n"
     ]
    }
   ],
   "source": [
    "print('I\\'m studying \\n Python')"
   ]
  },
  {
   "cell_type": "code",
   "execution_count": null,
   "id": "2fcdd818-075a-47f9-851a-1febe4f87ef7",
   "metadata": {},
   "outputs": [],
   "source": []
  }
 ],
 "metadata": {
  "kernelspec": {
   "display_name": "Python [conda env:base] *",
   "language": "python",
   "name": "conda-base-py"
  },
  "language_info": {
   "codemirror_mode": {
    "name": "ipython",
    "version": 3
   },
   "file_extension": ".py",
   "mimetype": "text/x-python",
   "name": "python",
   "nbconvert_exporter": "python",
   "pygments_lexer": "ipython3",
   "version": "3.13.5"
  }
 },
 "nbformat": 4,
 "nbformat_minor": 5
}
