{
 "cells": [
  {
   "cell_type": "code",
   "execution_count": 5,
   "id": "29924960-0df1-44c0-9b6d-193fecbbe4c0",
   "metadata": {},
   "outputs": [
    {
     "name": "stdin",
     "output_type": "stream",
     "text": [
      " Dave\n"
     ]
    },
    {
     "name": "stdout",
     "output_type": "stream",
     "text": [
      "Hello there Dave!\n"
     ]
    }
   ],
   "source": [
    "name = input()\n",
    "print('Hello there', name + '!')"
   ]
  },
  {
   "cell_type": "code",
   "execution_count": 6,
   "id": "63ecd024-475d-4000-ad0e-1bbc7a93fd38",
   "metadata": {},
   "outputs": [
    {
     "name": "stdin",
     "output_type": "stream",
     "text": [
      "What is your name? David\n"
     ]
    },
    {
     "name": "stdout",
     "output_type": "stream",
     "text": [
      "Hello there David!\n"
     ]
    }
   ],
   "source": [
    "name = input('What is your name?')\n",
    "print('Hello there', name + '!')"
   ]
  },
  {
   "cell_type": "code",
   "execution_count": 7,
   "id": "e29761ec-a4d8-4699-99eb-6bb37720eda5",
   "metadata": {},
   "outputs": [
    {
     "name": "stdin",
     "output_type": "stream",
     "text": [
      "Enter your login:  am\n",
      "Enter your native language:  Greek\n"
     ]
    },
    {
     "name": "stdout",
     "output_type": "stream",
     "text": [
      "Your login is am and you speak Greek\n"
     ]
    }
   ],
   "source": [
    "login = input('Enter your login: ')\n",
    "language = input('Enter your native language: ')\n",
    "\n",
    "print('Your login is', login, 'and you speak', language)"
   ]
  },
  {
   "cell_type": "code",
   "execution_count": null,
   "id": "af10adf7-820c-440c-90cd-65b693681d62",
   "metadata": {},
   "outputs": [],
   "source": []
  }
 ],
 "metadata": {
  "kernelspec": {
   "display_name": "Python [conda env:base] *",
   "language": "python",
   "name": "conda-base-py"
  },
  "language_info": {
   "codemirror_mode": {
    "name": "ipython",
    "version": 3
   },
   "file_extension": ".py",
   "mimetype": "text/x-python",
   "name": "python",
   "nbconvert_exporter": "python",
   "pygments_lexer": "ipython3",
   "version": "3.13.5"
  }
 },
 "nbformat": 4,
 "nbformat_minor": 5
}
