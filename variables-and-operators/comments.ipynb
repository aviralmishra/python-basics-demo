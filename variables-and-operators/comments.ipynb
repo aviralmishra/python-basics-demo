{
 "cells": [
  {
   "cell_type": "code",
   "execution_count": 1,
   "id": "83638278-cdf2-4357-9c91-68ae5f99c1bd",
   "metadata": {},
   "outputs": [],
   "source": [
    "# this is just a comment. Won't run. Next line will."
   ]
  },
  {
   "cell_type": "code",
   "execution_count": null,
   "id": "f89e9888-9593-4dc4-b988-6307dd90b401",
   "metadata": {},
   "outputs": [],
   "source": []
  }
 ],
 "metadata": {
  "kernelspec": {
   "display_name": "Python [conda env:base] *",
   "language": "python",
   "name": "conda-base-py"
  },
  "language_info": {
   "codemirror_mode": {
    "name": "ipython",
    "version": 3
   },
   "file_extension": ".py",
   "mimetype": "text/x-python",
   "name": "python",
   "nbconvert_exporter": "python",
   "pygments_lexer": "ipython3",
   "version": "3.13.5"
  }
 },
 "nbformat": 4,
 "nbformat_minor": 5
}
