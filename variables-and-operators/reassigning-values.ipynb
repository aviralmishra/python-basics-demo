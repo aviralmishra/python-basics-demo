{
 "cells": [
  {
   "cell_type": "code",
   "execution_count": 6,
   "id": "bee7a18e-6e19-4c47-a708-8e24e85f23b9",
   "metadata": {},
   "outputs": [
    {
     "name": "stdout",
     "output_type": "stream",
     "text": [
      "28\n"
     ]
    }
   ],
   "source": [
    "age1 = 28\n",
    "print(age1)"
   ]
  },
  {
   "cell_type": "code",
   "execution_count": 7,
   "id": "31b60080-1e27-45af-9e1c-c9984c9331d0",
   "metadata": {},
   "outputs": [
    {
     "name": "stdout",
     "output_type": "stream",
     "text": [
      "35\n"
     ]
    }
   ],
   "source": [
    "age2 = 28\n",
    "age2 += 7\n",
    "print(age2)"
   ]
  },
  {
   "cell_type": "code",
   "execution_count": 8,
   "id": "0ff6d694-6f85-4d32-baa3-9e54f1051e45",
   "metadata": {},
   "outputs": [
    {
     "name": "stdout",
     "output_type": "stream",
     "text": [
      "21\n"
     ]
    }
   ],
   "source": [
    "age3 = 28\n",
    "age3 -= 7\n",
    "print(age3)"
   ]
  },
  {
   "cell_type": "code",
   "execution_count": 9,
   "id": "105f023c-915f-43fa-8e6a-a6f53f54cb1d",
   "metadata": {},
   "outputs": [
    {
     "name": "stdout",
     "output_type": "stream",
     "text": [
      "56\n"
     ]
    }
   ],
   "source": [
    "age4 = 28\n",
    "age4 *= 2\n",
    "print(age4)"
   ]
  },
  {
   "cell_type": "code",
   "execution_count": 10,
   "id": "58cd14fc-6c8d-42bf-8faa-bcbae69991f2",
   "metadata": {},
   "outputs": [
    {
     "name": "stdout",
     "output_type": "stream",
     "text": [
      "2.0\n"
     ]
    }
   ],
   "source": [
    "age5 = 28\n",
    "age5 /= 14\n",
    "print(age5)"
   ]
  },
  {
   "cell_type": "code",
   "execution_count": 12,
   "id": "e0f95b01-310f-463e-93ea-b589a8e48718",
   "metadata": {},
   "outputs": [
    {
     "name": "stdout",
     "output_type": "stream",
     "text": [
      "hellohellohellohellohello\n"
     ]
    }
   ],
   "source": [
    "print('hello' * 5)"
   ]
  },
  {
   "cell_type": "code",
   "execution_count": null,
   "id": "b2f2d64b-7f5a-47d4-8d76-6ee5cd604b3f",
   "metadata": {},
   "outputs": [],
   "source": []
  }
 ],
 "metadata": {
  "kernelspec": {
   "display_name": "Python [conda env:base] *",
   "language": "python",
   "name": "conda-base-py"
  },
  "language_info": {
   "codemirror_mode": {
    "name": "ipython",
    "version": 3
   },
   "file_extension": ".py",
   "mimetype": "text/x-python",
   "name": "python",
   "nbconvert_exporter": "python",
   "pygments_lexer": "ipython3",
   "version": "3.13.5"
  }
 },
 "nbformat": 4,
 "nbformat_minor": 5
}
