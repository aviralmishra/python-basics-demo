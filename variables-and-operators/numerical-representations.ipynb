{
 "cells": [
  {
   "cell_type": "code",
   "execution_count": 1,
   "id": "7dce6eb1-9b5b-4098-8603-11eb5b868968",
   "metadata": {},
   "outputs": [
    {
     "name": "stdout",
     "output_type": "stream",
     "text": [
      "19000000\n"
     ]
    }
   ],
   "source": [
    "#underscore in numbers\n",
    "large_number = 19_000_000\n",
    "print(large_number)"
   ]
  },
  {
   "cell_type": "code",
   "execution_count": 16,
   "id": "d151379b-8278-4fd1-8466-0a65681e84fb",
   "metadata": {},
   "outputs": [
    {
     "name": "stdout",
     "output_type": "stream",
     "text": [
      "30000.0\n",
      "300000000000000000000000000000000000000000000000000000000000000\n",
      "0.0003\n",
      "10\n",
      "18\n"
     ]
    }
   ],
   "source": [
    "# scientific notation\n",
    "num = 3e4\n",
    "print(num)\n",
    "\n",
    "num = 300000000000000000000000000000000000000000000000000000000000000\n",
    "print(num)\n",
    "\n",
    "num = 3e-4\n",
    "print(num)\n",
    "\n",
    "num = 0o12 # Octal\n",
    "print(num)\n",
    "\n",
    "num = 0x12 # Hexadecimal\n",
    "print(num)"
   ]
  },
  {
   "cell_type": "code",
   "execution_count": 12,
   "id": "f8d05981-4ccc-4460-aef1-501f200d9c56",
   "metadata": {},
   "outputs": [
    {
     "name": "stdout",
     "output_type": "stream",
     "text": [
      "0: zero\n",
      "7: seven\n",
      "42: forty-two\n",
      "115: one hundred and fifteen\n",
      "1234: one thousand and two hundred and thirty-four\n",
      "54321: fifty-four thousand and three hundred and twenty-one\n",
      "1000000: one million\n",
      "-17: negative seventeen\n"
     ]
    }
   ],
   "source": [
    "def number_to_words(num):\n",
    "    \"\"\"Convert a number to its word representation.\"\"\"\n",
    "    \n",
    "    # Dictionary for basic numbers\n",
    "    ones = {\n",
    "        0: 'zero', 1: 'one', 2: 'two', 3: 'three', 4: 'four', \n",
    "        5: 'five', 6: 'six', 7: 'seven', 8: 'eight', 9: 'nine',\n",
    "        10: 'ten', 11: 'eleven', 12: 'twelve', 13: 'thirteen', 14: 'fourteen',\n",
    "        15: 'fifteen', 16: 'sixteen', 17: 'seventeen', 18: 'eighteen', 19: 'nineteen'\n",
    "    }\n",
    "    \n",
    "    tens = {\n",
    "        2: 'twenty', 3: 'thirty', 4: 'forty', 5: 'fifty',\n",
    "        6: 'sixty', 7: 'seventy', 8: 'eighty', 9: 'ninety'\n",
    "    }\n",
    "    \n",
    "    # Handle special case\n",
    "    if num == 0:\n",
    "        return ones[0]\n",
    "    \n",
    "    # For negative numbers\n",
    "    if num < 0:\n",
    "        return 'negative ' + number_to_words(abs(num))\n",
    "    \n",
    "    # Function to handle numbers less than 1000\n",
    "    def convert_less_than_thousand(n):\n",
    "        if n < 20:\n",
    "            return ones[n]\n",
    "        \n",
    "        if n < 100:\n",
    "            if n % 10 == 0:\n",
    "                return tens[n // 10]\n",
    "            else:\n",
    "                return tens[n // 10] + '-' + ones[n % 10]\n",
    "        \n",
    "        # For hundreds\n",
    "        if n % 100 == 0:\n",
    "            return ones[n // 100] + ' hundred'\n",
    "        else:\n",
    "            return ones[n // 100] + ' hundred and ' + convert_less_than_thousand(n % 100)\n",
    "    \n",
    "    # Main conversion logic\n",
    "    result = ''\n",
    "    \n",
    "    # Handle billions\n",
    "    if num >= 1_000_000_000:\n",
    "        result += number_to_words(num // 1_000_000_000) + ' billion '\n",
    "        num %= 1_000_000_000\n",
    "    \n",
    "    # Handle millions\n",
    "    if num >= 1_000_000:\n",
    "        result += number_to_words(num // 1_000_000) + ' million '\n",
    "        num %= 1_000_000\n",
    "    \n",
    "    # Handle thousands\n",
    "    if num >= 1000:\n",
    "        result += number_to_words(num // 1000) + ' thousand '\n",
    "        num %= 1000\n",
    "        if num > 0:\n",
    "            result += 'and '\n",
    "    \n",
    "    # Handle remaining part\n",
    "    if num > 0:\n",
    "        result += convert_less_than_thousand(num)\n",
    "    \n",
    "    return result.strip()\n",
    "\n",
    "# Example usage\n",
    "test_numbers = [0, 7, 42, 115, 1234, 54321, 1000000, -17]\n",
    "for num in test_numbers:\n",
    "    print(f\"{num}: {number_to_words(num)}\")"
   ]
  },
  {
   "cell_type": "code",
   "execution_count": null,
   "id": "b7931016-6a85-4bb1-8580-d37c7b9a3d24",
   "metadata": {},
   "outputs": [],
   "source": []
  }
 ],
 "metadata": {
  "kernelspec": {
   "display_name": "Python [conda env:base] *",
   "language": "python",
   "name": "conda-base-py"
  },
  "language_info": {
   "codemirror_mode": {
    "name": "ipython",
    "version": 3
   },
   "file_extension": ".py",
   "mimetype": "text/x-python",
   "name": "python",
   "nbconvert_exporter": "python",
   "pygments_lexer": "ipython3",
   "version": "3.13.5"
  }
 },
 "nbformat": 4,
 "nbformat_minor": 5
}
