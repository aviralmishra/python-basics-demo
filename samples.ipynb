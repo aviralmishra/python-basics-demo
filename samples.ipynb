{
 "cells": [
  {
   "cell_type": "code",
   "execution_count": 1,
   "id": "9956ca2f-225b-420d-9426-24b644a8f619",
   "metadata": {},
   "outputs": [
    {
     "name": "stdout",
     "output_type": "stream",
     "text": [
      "3\n"
     ]
    }
   ],
   "source": [
    "class Server:\n",
    " def __init__(self, colour):\n",
    "  self.colour = 'brown'\n",
    "  self.name = 'Atari'\n",
    " \n",
    "myserv = Server('black')\n",
    "myserv.attr = 'extra'\n",
    "print(len(myserv.__dict__))"
   ]
  },
  {
   "cell_type": "code",
   "execution_count": 2,
   "id": "a5d8ecf9-7e1b-4b46-881e-d11633e73889",
   "metadata": {},
   "outputs": [
    {
     "name": "stdout",
     "output_type": "stream",
     "text": [
      "labrador\n"
     ]
    }
   ],
   "source": [
    "class Dog:\n",
    " def __init__(self, breed='none'):\n",
    "  self.breed = breed\n",
    " \n",
    " def set(self, breed='labrador'):\n",
    "  self.breed = breed\n",
    "  return self.breed\n",
    " \n",
    "puppy = Dog()\n",
    "friend = puppy\n",
    "friend.set()\n",
    "\n",
    "print(puppy.breed)"
   ]
  },
  {
   "cell_type": "code",
   "execution_count": 3,
   "id": "33dbf746-e7bc-4c16-910e-9872c5a2a51c",
   "metadata": {},
   "outputs": [
    {
     "name": "stdout",
     "output_type": "stream",
     "text": [
      "['-Adam', '-Mary', '-Kate']\n"
     ]
    }
   ],
   "source": [
    "inpt = ['Adam', 'Mary', 'Kate']\n",
    "res = list(map(lambda x: '-' + x, inpt))\n",
    "print(res)"
   ]
  },
  {
   "cell_type": "code",
   "execution_count": 4,
   "id": "487cfa95-3143-45d6-8304-eb6822384f05",
   "metadata": {},
   "outputs": [
    {
     "name": "stdout",
     "output_type": "stream",
     "text": [
      "Adam-Mary-Kate\n"
     ]
    }
   ],
   "source": [
    "inpt = ['Adam', 'Mary', 'Kate']\n",
    "res = '-'.join(inpt)\n",
    "print(res)"
   ]
  },
  {
   "cell_type": "code",
   "execution_count": 5,
   "id": "a28ac64e-c2e6-4184-85ea-89654e10de9b",
   "metadata": {},
   "outputs": [
    {
     "name": "stdout",
     "output_type": "stream",
     "text": [
      "[5]\n"
     ]
    }
   ],
   "source": [
    "print(list(map(lambda x: x + 5, [int(bytearray(10)[0])])))"
   ]
  },
  {
   "cell_type": "code",
   "execution_count": 6,
   "id": "db5ca6dd-d464-48ae-b30c-71dec82235d3",
   "metadata": {},
   "outputs": [
    {
     "name": "stdout",
     "output_type": "stream",
     "text": [
      "['aa', 'bb', 'cc', 'dd']\n"
     ]
    }
   ],
   "source": [
    "inpt = ['a', 'b', 'c', 'd']\n",
    "print(list(map(lambda a: a + a, inpt)))"
   ]
  },
  {
   "cell_type": "code",
   "execution_count": 7,
   "id": "56f21da2-5c20-4abf-8bbb-6161a65a6706",
   "metadata": {},
   "outputs": [
    {
     "data": {
      "text/plain": [
       "1.0"
      ]
     },
     "execution_count": 7,
     "metadata": {},
     "output_type": "execute_result"
    }
   ],
   "source": [
    "float('1.0')"
   ]
  },
  {
   "cell_type": "code",
   "execution_count": 8,
   "id": "78039982-0027-401f-a009-5e37d0002334",
   "metadata": {},
   "outputs": [
    {
     "name": "stdout",
     "output_type": "stream",
     "text": [
      "c\n"
     ]
    }
   ],
   "source": [
    "print(chr(ord('a') + 2))"
   ]
  },
  {
   "cell_type": "code",
   "execution_count": 9,
   "id": "90bbba50-fe66-484f-b584-bfbba5ce667a",
   "metadata": {},
   "outputs": [
    {
     "name": "stdout",
     "output_type": "stream",
     "text": [
      "10\n"
     ]
    }
   ],
   "source": [
    "import math\n",
    "print(math.ceil(3.0) + math.floor(4.9) + 3)"
   ]
  },
  {
   "cell_type": "code",
   "execution_count": 10,
   "id": "8a30cf4d-a5a9-4eb0-b631-5b73b939905b",
   "metadata": {},
   "outputs": [
    {
     "name": "stdout",
     "output_type": "stream",
     "text": [
      "3\n"
     ]
    }
   ],
   "source": [
    "try:\n",
    " raise Exception(0, 1, [0, 1])\n",
    "except Exception as e:\n",
    " print(len(e.args))"
   ]
  },
  {
   "cell_type": "code",
   "execution_count": 11,
   "id": "cc227301-d73f-463f-879b-a2b755d63d0a",
   "metadata": {},
   "outputs": [
    {
     "name": "stdout",
     "output_type": "stream",
     "text": [
      "['BPF', 'LOG4', 'NV_MAGICCONST', 'RECIP_BPF', 'Random', 'SG_MAGICCONST', 'SystemRandom', 'TWOPI', '_ONE', '_Sequence', '__all__', '__builtins__', '__cached__', '__doc__', '__file__', '__loader__', '__name__', '__package__', '__spec__', '_accumulate', '_acos', '_bisect', '_ceil', '_cos', '_e', '_exp', '_fabs', '_floor', '_index', '_inst', '_isfinite', '_lgamma', '_log', '_log2', '_os', '_parse_args', '_pi', '_random', '_repeat', '_sha512', '_sin', '_sqrt', '_test', '_test_generator', '_urandom', 'betavariate', 'binomialvariate', 'choice', 'choices', 'expovariate', 'gammavariate', 'gauss', 'getrandbits', 'getstate', 'lognormvariate', 'main', 'normalvariate', 'paretovariate', 'randbytes', 'randint', 'random', 'randrange', 'sample', 'seed', 'setstate', 'shuffle', 'triangular', 'uniform', 'vonmisesvariate', 'weibullvariate']\n"
     ]
    }
   ],
   "source": [
    "import random\n",
    "print(dir(random))"
   ]
  },
  {
   "cell_type": "code",
   "execution_count": 12,
   "id": "eb8b6131-ea35-4a46-bc9b-227672d6141b",
   "metadata": {},
   "outputs": [
    {
     "name": "stdout",
     "output_type": "stream",
     "text": [
      "ay\n"
     ]
    }
   ],
   "source": [
    "class A:\n",
    " x = 'x'\n",
    " def alarm(self):\n",
    "  print('a' + self.x)\n",
    " \n",
    "class B(A):\n",
    " def alarm(self):\n",
    "  super().alarm()\n",
    " \n",
    "class C(B):\n",
    " x = 'y'\n",
    " \n",
    "C().alarm()"
   ]
  },
  {
   "cell_type": "code",
   "execution_count": 13,
   "id": "76f8529f-b013-4838-87ac-3b5069639662",
   "metadata": {},
   "outputs": [
    {
     "name": "stdout",
     "output_type": "stream",
     "text": [
      "True\n"
     ]
    }
   ],
   "source": [
    "class A:\n",
    " b = 1\n",
    " def __init__(self):\n",
    "  self.c = 0\n",
    " \n",
    "print(hasattr(A(), 'c'))"
   ]
  },
  {
   "cell_type": "code",
   "execution_count": 14,
   "id": "8c6b2ebd-878e-4cbe-bef4-9b82b5a3dcd5",
   "metadata": {},
   "outputs": [
    {
     "name": "stdout",
     "output_type": "stream",
     "text": [
      "False\n",
      "True\n",
      "['Y', '__class__', '__delattr__', '__dict__', '__dir__', '__doc__', '__eq__', '__firstlineno__', '__format__', '__ge__', '__getattribute__', '__getstate__', '__gt__', '__hash__', '__init__', '__init_subclass__', '__le__', '__lt__', '__module__', '__ne__', '__new__', '__reduce__', '__reduce_ex__', '__repr__', '__setattr__', '__sizeof__', '__static_attributes__', '__str__', '__subclasshook__', '__weakref__']\n"
     ]
    }
   ],
   "source": [
    "class X:\n",
    " Y = 1\n",
    "    \n",
    " def __init__(self):\n",
    "  self.z = 0\n",
    " \n",
    "print(hasattr(X, 'z'))\n",
    "print(hasattr(X(), 'z'))\n",
    "print(dir(X))"
   ]
  },
  {
   "cell_type": "code",
   "execution_count": 15,
   "id": "c69f1465-398d-441c-a504-8ef170b09a5e",
   "metadata": {},
   "outputs": [
    {
     "name": "stdout",
     "output_type": "stream",
     "text": [
      "1\n"
     ]
    }
   ],
   "source": [
    "class Art():\n",
    " masterpiece = 'John'\n",
    "    \n",
    " def __init__(self):\n",
    "  self.name = 'One'\n",
    " \n",
    "print(len(Art().__dict__))"
   ]
  },
  {
   "cell_type": "code",
   "execution_count": 16,
   "id": "b50b2235-59c0-4b57-88a4-11a84d3dfa8f",
   "metadata": {},
   "outputs": [
    {
     "name": "stdout",
     "output_type": "stream",
     "text": [
      "5\n",
      "None\n"
     ]
    }
   ],
   "source": [
    "def a():\n",
    " hey = 5\n",
    " \n",
    " def b():\n",
    "  print(hey)\n",
    " \n",
    " return b\n",
    " \n",
    "x = a()\n",
    "print(x())"
   ]
  },
  {
   "cell_type": "code",
   "execution_count": null,
   "id": "fa43e223-c7a8-45e3-80f0-3edcf56dac50",
   "metadata": {},
   "outputs": [],
   "source": []
  }
 ],
 "metadata": {
  "kernelspec": {
   "display_name": "Python [conda env:base] *",
   "language": "python",
   "name": "conda-base-py"
  },
  "language_info": {
   "codemirror_mode": {
    "name": "ipython",
    "version": 3
   },
   "file_extension": ".py",
   "mimetype": "text/x-python",
   "name": "python",
   "nbconvert_exporter": "python",
   "pygments_lexer": "ipython3",
   "version": "3.13.5"
  }
 },
 "nbformat": 4,
 "nbformat_minor": 5
}
