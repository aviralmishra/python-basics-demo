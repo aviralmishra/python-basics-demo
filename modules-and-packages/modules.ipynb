{
 "cells": [
  {
   "cell_type": "code",
   "execution_count": 5,
   "id": "7785bb4b-82cf-46dc-bc2c-eb867ad43340",
   "metadata": {},
   "outputs": [
    {
     "name": "stdout",
     "output_type": "stream",
     "text": [
      "3.13.5 | packaged by Anaconda, Inc. | (main, Jun 12 2025, 11:23:37) [Clang 14.0.6 ]\n"
     ]
    }
   ],
   "source": [
    "import sys\n",
    "\n",
    "'''\n",
    "for name in dir(sys):\n",
    "    print(name)\n",
    "print('------------')\n",
    "'''\n",
    "print(sys.version)    "
   ]
  },
  {
   "cell_type": "code",
   "execution_count": 6,
   "id": "ce873903-4c70-4042-92dd-33dee51d05bf",
   "metadata": {},
   "outputs": [
    {
     "name": "stdout",
     "output_type": "stream",
     "text": [
      "3.13.5 | packaged by Anaconda, Inc. | (main, Jun 12 2025, 11:23:37) [Clang 14.0.6 ]\n"
     ]
    }
   ],
   "source": [
    "from sys import version\n",
    "print(version)"
   ]
  },
  {
   "cell_type": "code",
   "execution_count": 11,
   "id": "4762e1c2-467c-4e71-bb4f-28e048710110",
   "metadata": {},
   "outputs": [
    {
     "name": "stdout",
     "output_type": "stream",
     "text": [
      "3.13.5 | packaged by Anaconda, Inc. | (main, Jun 12 2025, 11:23:37) [Clang 14.0.6 ]\n"
     ]
    }
   ],
   "source": [
    "from sys import * # not recommended\n",
    "print(version) "
   ]
  },
  {
   "cell_type": "code",
   "execution_count": 8,
   "id": "1dfd91f3-a82f-48f9-93b5-6e3dd787a518",
   "metadata": {},
   "outputs": [
    {
     "name": "stdout",
     "output_type": "stream",
     "text": [
      "3.13.5 | packaged by Anaconda, Inc. | (main, Jun 12 2025, 11:23:37) [Clang 14.0.6 ]\n"
     ]
    }
   ],
   "source": [
    "import sys as s\n",
    "print(s.version)    "
   ]
  },
  {
   "cell_type": "code",
   "execution_count": 10,
   "id": "a80a8dbb-4aad-48dc-bb13-2d7f602ccb38",
   "metadata": {},
   "outputs": [
    {
     "name": "stdout",
     "output_type": "stream",
     "text": [
      "3.13.5 | packaged by Anaconda, Inc. | (main, Jun 12 2025, 11:23:37) [Clang 14.0.6 ]\n"
     ]
    }
   ],
   "source": [
    "from sys import version as ver # not recommended - better to use standard names\n",
    "print(ver)"
   ]
  },
  {
   "cell_type": "code",
   "execution_count": null,
   "id": "a57bc798-0ed0-43f2-8188-c6c45ad472d6",
   "metadata": {},
   "outputs": [],
   "source": []
  }
 ],
 "metadata": {
  "kernelspec": {
   "display_name": "Python [conda env:base] *",
   "language": "python",
   "name": "conda-base-py"
  },
  "language_info": {
   "codemirror_mode": {
    "name": "ipython",
    "version": 3
   },
   "file_extension": ".py",
   "mimetype": "text/x-python",
   "name": "python",
   "nbconvert_exporter": "python",
   "pygments_lexer": "ipython3",
   "version": "3.13.5"
  }
 },
 "nbformat": 4,
 "nbformat_minor": 5
}
