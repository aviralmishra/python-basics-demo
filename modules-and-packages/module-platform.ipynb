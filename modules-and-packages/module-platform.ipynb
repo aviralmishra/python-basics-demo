{
 "cells": [
  {
   "cell_type": "code",
   "execution_count": 24,
   "id": "d9f72fe5-a044-47b8-b87b-983c462fa6c2",
   "metadata": {},
   "outputs": [],
   "source": [
    "import platform"
   ]
  },
  {
   "cell_type": "code",
   "execution_count": 13,
   "id": "f3c1ae3a-4af7-4b88-a9fe-e7485a4dd7ba",
   "metadata": {},
   "outputs": [
    {
     "name": "stdout",
     "output_type": "stream",
     "text": [
      "macOS-15.6.1-arm64-arm-64bit-Mach-O\n",
      "macOS-15.6.1\n",
      "macOS-15.6.1-arm64-arm-64bit-Mach-O\n"
     ]
    }
   ],
   "source": [
    "print(platform.platform())\n",
    "print(platform.platform(aliased = True, terse = True))\n",
    "print(platform.platform(aliased = False, terse = False))"
   ]
  },
  {
   "cell_type": "code",
   "execution_count": 14,
   "id": "35d4281b-c165-4c9f-b8d4-72cf7cbbe1c8",
   "metadata": {},
   "outputs": [
    {
     "name": "stdout",
     "output_type": "stream",
     "text": [
      "arm64\n"
     ]
    }
   ],
   "source": [
    "print(platform.machine())"
   ]
  },
  {
   "cell_type": "code",
   "execution_count": 22,
   "id": "ec196f58-a456-414e-8e54-c1cc9025d357",
   "metadata": {},
   "outputs": [
    {
     "name": "stdout",
     "output_type": "stream",
     "text": [
      "arm\n"
     ]
    }
   ],
   "source": [
    "print(platform.processor()) # generic processor name"
   ]
  },
  {
   "cell_type": "code",
   "execution_count": 23,
   "id": "f44edd74-9bb8-4f90-80cc-b6cec65303d3",
   "metadata": {},
   "outputs": [
    {
     "name": "stdout",
     "output_type": "stream",
     "text": [
      "Darwin\n"
     ]
    }
   ],
   "source": [
    "print(platform.system()) # generic os name"
   ]
  },
  {
   "cell_type": "code",
   "execution_count": 17,
   "id": "cba51ebd-2fd3-4f4f-8568-f9ea89bb102f",
   "metadata": {},
   "outputs": [
    {
     "name": "stdout",
     "output_type": "stream",
     "text": [
      "CPython\n"
     ]
    }
   ],
   "source": [
    "print(platform.python_implementation())"
   ]
  },
  {
   "cell_type": "code",
   "execution_count": 21,
   "id": "918a9263-3203-4cbd-a228-6df755a4ee12",
   "metadata": {},
   "outputs": [
    {
     "name": "stdout",
     "output_type": "stream",
     "text": [
      "('3', '13', '5')\n"
     ]
    }
   ],
   "source": [
    "print(platform.python_version_tuple()) # python version such as 3.13.5"
   ]
  },
  {
   "cell_type": "code",
   "execution_count": null,
   "id": "0317d4dc-8b94-420d-b4ca-d1651710de4a",
   "metadata": {},
   "outputs": [],
   "source": []
  }
 ],
 "metadata": {
  "kernelspec": {
   "display_name": "Python [conda env:base] *",
   "language": "python",
   "name": "conda-base-py"
  },
  "language_info": {
   "codemirror_mode": {
    "name": "ipython",
    "version": 3
   },
   "file_extension": ".py",
   "mimetype": "text/x-python",
   "name": "python",
   "nbconvert_exporter": "python",
   "pygments_lexer": "ipython3",
   "version": "3.13.5"
  }
 },
 "nbformat": 4,
 "nbformat_minor": 5
}
