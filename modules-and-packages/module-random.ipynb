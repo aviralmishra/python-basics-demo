{
 "cells": [
  {
   "cell_type": "code",
   "execution_count": 2,
   "id": "d9f72fe5-a044-47b8-b87b-983c462fa6c2",
   "metadata": {},
   "outputs": [
    {
     "name": "stdout",
     "output_type": "stream",
     "text": [
      "0.35725996679015115\n",
      "0.16662024492925998\n",
      "0.6709367393056652\n"
     ]
    }
   ],
   "source": [
    "import random\n",
    "\n",
    "print(random.random())\n",
    "print(random.random())\n",
    "print(random.random())"
   ]
  },
  {
   "cell_type": "code",
   "execution_count": 4,
   "id": "c1389cb8-6635-443f-8884-17891ee32efc",
   "metadata": {},
   "outputs": [
    {
     "name": "stdout",
     "output_type": "stream",
     "text": [
      "0.5714025946899135\n",
      "0.4288890546751146\n",
      "0.5780913011344704\n"
     ]
    }
   ],
   "source": [
    "import random\n",
    "\n",
    "random.seed(10)\n",
    "\n",
    "print(random.random())\n",
    "print(random.random())\n",
    "print(random.random())"
   ]
  },
  {
   "cell_type": "code",
   "execution_count": 7,
   "id": "996f4cda-0550-412b-bb79-eb9fe7adafb1",
   "metadata": {},
   "outputs": [
    {
     "name": "stdout",
     "output_type": "stream",
     "text": [
      "3\n",
      "Adam\n"
     ]
    }
   ],
   "source": [
    "import random\n",
    "\n",
    "nums = [1, 2, 3, 4, 5, 6, 7, 8, 9]\n",
    "names = ['Adam', 'Allan', 'Ben', 'Karl', 'Zee']\n",
    "\n",
    "print(random.choice(nums))\n",
    "print(random.choice(names))"
   ]
  },
  {
   "cell_type": "code",
   "execution_count": 12,
   "id": "391ea32d-7d93-4777-85fd-6a22d9b33572",
   "metadata": {},
   "outputs": [
    {
     "name": "stdout",
     "output_type": "stream",
     "text": [
      "e\n"
     ]
    }
   ],
   "source": [
    "print(random.choice('Earth..is..a..beautiful..planet.'))"
   ]
  },
  {
   "cell_type": "code",
   "execution_count": 15,
   "id": "9a731d96-7f48-482d-a92c-0865ab8d0cf9",
   "metadata": {},
   "outputs": [
    {
     "name": "stdout",
     "output_type": "stream",
     "text": [
      "[3, 6, 4]\n"
     ]
    }
   ],
   "source": [
    "nums = [1, 2, 3, 4, 5, 6, 7, 8, 9]\n",
    "# new list with unique selections using unique indexes\n",
    "print(random.sample(nums, 3))"
   ]
  },
  {
   "cell_type": "code",
   "execution_count": 17,
   "id": "f3c1ae3a-4af7-4b88-a9fe-e7485a4dd7ba",
   "metadata": {},
   "outputs": [
    {
     "name": "stdout",
     "output_type": "stream",
     "text": [
      "([5, 2, 7, 6, 1, 3, 4, 0, 8, 9], 7)\n"
     ]
    }
   ],
   "source": [
    "import random\n",
    "\n",
    "# generate a list of random numbers and also choose one number from the samples\n",
    "def generate_tickets(ticket_count, max_number):\n",
    "    full_list = [i for i in range(0, max_number)]\n",
    "    sample = random.sample(full_list, max_number)\n",
    "    selection = random.choice(sample)\n",
    "    \n",
    "    return (sample, selection)\n",
    "\n",
    "print(generate_tickets(5, 10))    "
   ]
  },
  {
   "cell_type": "code",
   "execution_count": null,
   "id": "52d7daf4-43d6-453a-8974-14dd5ecd379c",
   "metadata": {},
   "outputs": [],
   "source": []
  }
 ],
 "metadata": {
  "kernelspec": {
   "display_name": "Python [conda env:base] *",
   "language": "python",
   "name": "conda-base-py"
  },
  "language_info": {
   "codemirror_mode": {
    "name": "ipython",
    "version": 3
   },
   "file_extension": ".py",
   "mimetype": "text/x-python",
   "name": "python",
   "nbconvert_exporter": "python",
   "pygments_lexer": "ipython3",
   "version": "3.13.5"
  }
 },
 "nbformat": 4,
 "nbformat_minor": 5
}
