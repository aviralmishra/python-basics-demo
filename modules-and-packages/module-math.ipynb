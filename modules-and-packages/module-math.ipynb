{
 "cells": [
  {
   "cell_type": "code",
   "execution_count": 4,
   "id": "7785bb4b-82cf-46dc-bc2c-eb867ad43340",
   "metadata": {},
   "outputs": [
    {
     "name": "stdout",
     "output_type": "stream",
     "text": [
      "floor: 4\n",
      "ceil: 5\n",
      "trunc: 4\n"
     ]
    }
   ],
   "source": [
    "import math\n",
    "\n",
    "num = 4.3\n",
    "\n",
    "print('floor:', math.floor(num))\n",
    "print('ceil:', math.ceil(num))\n",
    "print('trunc:', math.trunc(num))"
   ]
  },
  {
   "cell_type": "code",
   "execution_count": 5,
   "id": "a57bc798-0ed0-43f2-8188-c6c45ad472d6",
   "metadata": {},
   "outputs": [
    {
     "name": "stdout",
     "output_type": "stream",
     "text": [
      "floor: 4\n",
      "ceil: 5\n",
      "trunc: 4\n"
     ]
    }
   ],
   "source": [
    "import math\n",
    "\n",
    "num = 4.7\n",
    "\n",
    "print('floor:', math.floor(num))\n",
    "print('ceil:', math.ceil(num))\n",
    "print('trunc:', math.trunc(num))"
   ]
  },
  {
   "cell_type": "code",
   "execution_count": 6,
   "id": "ac3bcc9c-93cf-413a-931c-dd89db9d9d4f",
   "metadata": {},
   "outputs": [
    {
     "name": "stdout",
     "output_type": "stream",
     "text": [
      "floor: -5\n",
      "ceil: -4\n",
      "trunc: -4\n"
     ]
    }
   ],
   "source": [
    "import math\n",
    "\n",
    "num = -4.7\n",
    "\n",
    "print('floor:', math.floor(num))\n",
    "print('ceil:', math.ceil(num))\n",
    "print('trunc:', math.trunc(num))"
   ]
  },
  {
   "cell_type": "code",
   "execution_count": 8,
   "id": "d4a2f4f5-4dbc-4770-b7a8-7e74ac3a5542",
   "metadata": {},
   "outputs": [
    {
     "name": "stdout",
     "output_type": "stream",
     "text": [
      "factorial: 120\n",
      "sqrt: 5.0\n",
      "hypot: 5.0\n"
     ]
    }
   ],
   "source": [
    "import math\n",
    "\n",
    "print('factorial:', math.factorial(5))\n",
    "print('sqrt:', math.sqrt(25))\n",
    "print('hypot:', math.hypot(3, 4))"
   ]
  }
 ],
 "metadata": {
  "kernelspec": {
   "display_name": "Python [conda env:base] *",
   "language": "python",
   "name": "conda-base-py"
  },
  "language_info": {
   "codemirror_mode": {
    "name": "ipython",
    "version": 3
   },
   "file_extension": ".py",
   "mimetype": "text/x-python",
   "name": "python",
   "nbconvert_exporter": "python",
   "pygments_lexer": "ipython3",
   "version": "3.13.5"
  }
 },
 "nbformat": 4,
 "nbformat_minor": 5
}
