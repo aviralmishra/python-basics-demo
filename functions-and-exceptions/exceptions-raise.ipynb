{
 "cells": [
  {
   "cell_type": "code",
   "execution_count": 17,
   "id": "9870fcfa-9d6b-45b1-8d47-fd559cb324f7",
   "metadata": {},
   "outputs": [
    {
     "name": "stdout",
     "output_type": "stream",
     "text": [
      "\n",
      "The inverse of 1000 is 0.001\n",
      "The finally was executed.\n",
      "\n",
      "The input was not suitable for inverse calculation. Please provide a non-zero number: division by zero\n",
      "The finally was executed.\n",
      "The inverse of 0 cannot be calculated: Sorry, please review your input. ('Sorry, please review your input.',)\n",
      "\n",
      "The input was not suitable for inverse calculation.\n",
      "The finally was executed.\n"
     ]
    }
   ],
   "source": [
    "# specific handling\n",
    "\n",
    "def inverse(num):\n",
    "    print()\n",
    "    \n",
    "    try:\n",
    "        print('The inverse of', num, 'is', 1 / num)\n",
    "    except ZeroDivisionError as zde:\n",
    "        print('The input was not suitable for inverse calculation. Please provide a non-zero number:', zde)\n",
    "        raise Exception('Sorry, please review your input.')\n",
    "    except ValueError as ve:\n",
    "        print('The input was not suitable for inverse calculation. Please provide a number:', ve)\n",
    "        raise\n",
    "    except:\n",
    "        print('The input was not suitable for inverse calculation.')\n",
    "    finally:\n",
    "        print('The finally was executed.')\n",
    "        \n",
    "\n",
    "inverse(1000)\n",
    "\n",
    "try: \n",
    "    inverse(0)\n",
    "except Exception as e:\n",
    "    print('The inverse of 0 cannot be calculated:', e, e.args)\n",
    "    \n",
    "inverse('a')"
   ]
  },
  {
   "cell_type": "code",
   "execution_count": null,
   "id": "99bf0300-f805-4325-bb25-4caa2266af01",
   "metadata": {},
   "outputs": [],
   "source": []
  }
 ],
 "metadata": {
  "kernelspec": {
   "display_name": "Python [conda env:base] *",
   "language": "python",
   "name": "conda-base-py"
  },
  "language_info": {
   "codemirror_mode": {
    "name": "ipython",
    "version": 3
   },
   "file_extension": ".py",
   "mimetype": "text/x-python",
   "name": "python",
   "nbconvert_exporter": "python",
   "pygments_lexer": "ipython3",
   "version": "3.13.5"
  }
 },
 "nbformat": 4,
 "nbformat_minor": 5
}
