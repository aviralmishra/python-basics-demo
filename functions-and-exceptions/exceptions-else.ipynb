{
 "cells": [
  {
   "cell_type": "code",
   "execution_count": 1,
   "id": "c023c1aa-6587-4e31-83a5-6e5b49252f3c",
   "metadata": {},
   "outputs": [
    {
     "name": "stdin",
     "output_type": "stream",
     "text": [
      "Please provide a number to get the inverse: 2\n"
     ]
    },
    {
     "name": "stdout",
     "output_type": "stream",
     "text": [
      "The inverse of 2 is 0.5\n",
      "The required operation was completed successfully.\n"
     ]
    }
   ],
   "source": [
    "# specific handling\n",
    "try:\n",
    "    num = int(input('Please provide a number to get the inverse:'))\n",
    "    print('The inverse of', num, 'is', 1 / num)\n",
    "except ZeroDivisionError:\n",
    "    print('The input was not suitable for inverse calculation. Please provide a non-zero number.')\n",
    "except ValueError:\n",
    "    print('The input was not suitable for inverse calculation. Please provide a number.')    \n",
    "except:\n",
    "    print('The input was not suitable for inverse calculation.')\n",
    "else:\n",
    "    print('The required operation was completed successfully.')"
   ]
  },
  {
   "cell_type": "code",
   "execution_count": null,
   "id": "a93af7ca-5372-4b2c-8a8a-b5da3b8bfd73",
   "metadata": {},
   "outputs": [],
   "source": []
  }
 ],
 "metadata": {
  "kernelspec": {
   "display_name": "Python [conda env:base] *",
   "language": "python",
   "name": "conda-base-py"
  },
  "language_info": {
   "codemirror_mode": {
    "name": "ipython",
    "version": 3
   },
   "file_extension": ".py",
   "mimetype": "text/x-python",
   "name": "python",
   "nbconvert_exporter": "python",
   "pygments_lexer": "ipython3",
   "version": "3.13.5"
  }
 },
 "nbformat": 4,
 "nbformat_minor": 5
}
