{
 "cells": [
  {
   "cell_type": "code",
   "execution_count": 10,
   "id": "3d0db911-2ffb-42df-af14-0196dbf5c848",
   "metadata": {},
   "outputs": [
    {
     "name": "stdin",
     "output_type": "stream",
     "text": [
      "Please provide a number to get the inverse: a\n"
     ]
    },
    {
     "name": "stdout",
     "output_type": "stream",
     "text": [
      "The input is not expected.\n"
     ]
    }
   ],
   "source": [
    "# propogating handling\n",
    "\n",
    "def inverse(num):\n",
    "    return 1 / num\n",
    "\n",
    "def inverse_input():\n",
    "    try:\n",
    "        in_num = int(input('Please provide a number to get the inverse:'))\n",
    "        print('The inverse of', in_num, 'is', inverse(in_num))\n",
    "    except ValueError:\n",
    "        print('The input is not expected.')\n",
    "\n",
    "inverse_input()        "
   ]
  },
  {
   "cell_type": "code",
   "execution_count": null,
   "id": "4c8f102a-8029-47e6-ade9-72275ef395bd",
   "metadata": {},
   "outputs": [],
   "source": []
  }
 ],
 "metadata": {
  "kernelspec": {
   "display_name": "Python [conda env:base] *",
   "language": "python",
   "name": "conda-base-py"
  },
  "language_info": {
   "codemirror_mode": {
    "name": "ipython",
    "version": 3
   },
   "file_extension": ".py",
   "mimetype": "text/x-python",
   "name": "python",
   "nbconvert_exporter": "python",
   "pygments_lexer": "ipython3",
   "version": "3.13.5"
  }
 },
 "nbformat": 4,
 "nbformat_minor": 5
}
