{
 "cells": [
  {
   "cell_type": "code",
   "execution_count": 1,
   "id": "04cab9ce-1224-4bbb-9ab7-d46a5b5bc256",
   "metadata": {},
   "outputs": [
    {
     "name": "stdout",
     "output_type": "stream",
     "text": [
      "Hello, World!\n"
     ]
    }
   ],
   "source": [
    "def greet():\n",
    "    print('Hello, World!')\n",
    "\n",
    "greet()    "
   ]
  },
  {
   "cell_type": "code",
   "execution_count": 3,
   "id": "30fb53a1-36f6-4163-ad48-1c23cdde952e",
   "metadata": {},
   "outputs": [
    {
     "name": "stdout",
     "output_type": "stream",
     "text": [
      "6.0\n"
     ]
    }
   ],
   "source": [
    "# arguments\n",
    "def avg(numbers_list):\n",
    "    sum = 0.0\n",
    "\n",
    "    for number in numbers_list:\n",
    "        sum += number;\n",
    "\n",
    "    return sum / len(numbers_list)\n",
    "\n",
    "print(avg([2, 4, 6, 8, 10]))"
   ]
  },
  {
   "cell_type": "code",
   "execution_count": 11,
   "id": "037e3ce9-1fd1-47e0-b06e-70c170798b82",
   "metadata": {},
   "outputs": [
    {
     "name": "stdout",
     "output_type": "stream",
     "text": [
      "0\n",
      "1\n",
      "2\n",
      "2\n"
     ]
    }
   ],
   "source": [
    "def letter_count(word, letter):\n",
    "    count = 0\n",
    "\n",
    "    for char in word:\n",
    "        if(char == letter):\n",
    "            count += 1\n",
    "        else:\n",
    "            continue\n",
    "\n",
    "    return count\n",
    "\n",
    "print(letter_count('hello', 't')) # positional arguments\n",
    "print(letter_count('hello', 'h')) # positional arguments\n",
    "print(letter_count('hello', 'l')) # positional arguments\n",
    "print(letter_count(letter = 'l', word = 'hello')) # named arguments / keyword arguments"
   ]
  },
  {
   "cell_type": "code",
   "execution_count": 18,
   "id": "075045f1-71b2-4e0c-9ddd-b209b662e6be",
   "metadata": {},
   "outputs": [
    {
     "name": "stdout",
     "output_type": "stream",
     "text": [
      "2\n",
      "1\n"
     ]
    }
   ],
   "source": [
    "# default arguments\n",
    "def letter_count(word, letter = 'l'):\n",
    "    count = 0\n",
    "\n",
    "    for char in word:\n",
    "        if(char == letter):\n",
    "            count += 1\n",
    "        else:\n",
    "            continue\n",
    "\n",
    "    return count\n",
    "\n",
    "print(letter_count('hello'))\n",
    "print(letter_count('hello', letter = 'h'))\n",
    "# print(letter_count(letter = 'h', 'hello')) # error - positional argument follows keyword argument"
   ]
  },
  {
   "cell_type": "code",
   "execution_count": 20,
   "id": "0fffb517-8e2e-4f74-aaba-0d82af05263b",
   "metadata": {},
   "outputs": [
    {
     "name": "stdout",
     "output_type": "stream",
     "text": [
      "greeting before function call is hola!\n",
      "greeting in function is hi!\n",
      "greeting after function call is hola!\n"
     ]
    }
   ],
   "source": [
    "# name scopes - scope of a variable\n",
    "def greet():\n",
    "    greeting = 'hi!' # shadows the global variable\n",
    "    print('greeting in function is' , greeting)\n",
    "\n",
    "greeting = 'hola!'\n",
    "print('greeting before function call is' , greeting)\n",
    "greet()    \n",
    "print('greeting after function call is' , greeting)\n"
   ]
  },
  {
   "cell_type": "code",
   "execution_count": 21,
   "id": "b9581750-a33b-4b27-9bf6-8d28a7617617",
   "metadata": {},
   "outputs": [
    {
     "name": "stdout",
     "output_type": "stream",
     "text": [
      "greeting before function call is hola!\n",
      "greeting in function is hi!\n",
      "greeting after function call is hi!\n"
     ]
    }
   ],
   "source": [
    "# name scopes - scope of a variable\n",
    "def greet():\n",
    "    global greeting # use the global variable\n",
    "    greeting = 'hi!'\n",
    "    print('greeting in function is' , greeting)\n",
    "\n",
    "greeting = 'hola!'\n",
    "print('greeting before function call is' , greeting)\n",
    "greet()    \n",
    "print('greeting after function call is' , greeting)\n"
   ]
  },
  {
   "cell_type": "code",
   "execution_count": 23,
   "id": "55362698-027c-4e50-92d1-3161f8ee52c6",
   "metadata": {},
   "outputs": [
    {
     "name": "stdout",
     "output_type": "stream",
     "text": [
      "['hi', 'hello']\n"
     ]
    }
   ],
   "source": [
    "def unique(list = []):\n",
    "    unique_elements_list = []\n",
    "    \n",
    "    for elem in list:\n",
    "        if elem not in unique_elements_list:\n",
    "            unique_elements_list.append(elem)\n",
    "            \n",
    "    return unique_elements_list\n",
    "\n",
    "print(unique(['hi', 'hello', 'hi']))    "
   ]
  },
  {
   "cell_type": "code",
   "execution_count": null,
   "id": "d227a2fd-c792-4f9c-9e7e-4285de1d3da4",
   "metadata": {},
   "outputs": [],
   "source": []
  }
 ],
 "metadata": {
  "kernelspec": {
   "display_name": "Python [conda env:base] *",
   "language": "python",
   "name": "conda-base-py"
  },
  "language_info": {
   "codemirror_mode": {
    "name": "ipython",
    "version": 3
   },
   "file_extension": ".py",
   "mimetype": "text/x-python",
   "name": "python",
   "nbconvert_exporter": "python",
   "pygments_lexer": "ipython3",
   "version": "3.13.5"
  }
 },
 "nbformat": 4,
 "nbformat_minor": 5
}
