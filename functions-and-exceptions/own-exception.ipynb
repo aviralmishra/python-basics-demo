{
 "cells": [
  {
   "cell_type": "code",
   "execution_count": 6,
   "id": "937f787c-d776-4e30-8b5c-ea334d5bf449",
   "metadata": {},
   "outputs": [
    {
     "name": "stdout",
     "output_type": "stream",
     "text": [
      "5\n",
      "10\n",
      "Sorry, the transaction type needs to be buy or sell.\n"
     ]
    }
   ],
   "source": [
    "class InvalidTransactionError(ValueError):\n",
    "    pass\n",
    "        \n",
    "def get_quantity(transaction_type):\n",
    "    if transaction_type == 'buy':\n",
    "        return 5\n",
    "    elif transaction_type == 'sell':\n",
    "        return 10\n",
    "    else:\n",
    "        raise InvalidTransactionError('Sorry, the transaction type needs to be buy or sell.')\n",
    "\n",
    "print(get_quantity('buy'))\n",
    "print(get_quantity('sell'))\n",
    "\n",
    "try:\n",
    "    print(get_quantity('hold'))\n",
    "except Exception as e:\n",
    "    print(e)"
   ]
  },
  {
   "cell_type": "code",
   "execution_count": 9,
   "id": "85e61f33-0d26-45d3-a4c1-3cc94b4a0ded",
   "metadata": {},
   "outputs": [
    {
     "name": "stdout",
     "output_type": "stream",
     "text": [
      "5\n",
      "10\n",
      "InvalidTransactionError occurred with message \"Sorry, the transaction type needs to be buy or sell.\" due to transaction value \"hold\"\n"
     ]
    }
   ],
   "source": [
    "class InvalidTransactionError(ValueError):\n",
    "    def __init__(self, message = '', transaction = ''):\n",
    "        ValueError.__init__(self)\n",
    "        self.message = message\n",
    "        self.transaction = transaction\n",
    "\n",
    "    def __str__(self):\n",
    "        return type(self).__name__ + ' occurred with message \"' + self.message + '\" due to transaction value \"' + self.transaction + '\"'\n",
    "\n",
    "def get_quantity(transaction_type):\n",
    "    if transaction_type == 'buy':\n",
    "        return 5\n",
    "    elif transaction_type == 'sell':\n",
    "        return 10\n",
    "    else:\n",
    "        raise InvalidTransactionError('Sorry, the transaction type needs to be buy or sell.', transaction_type)\n",
    "\n",
    "print(get_quantity('buy'))\n",
    "print(get_quantity('sell'))\n",
    "\n",
    "try:\n",
    "    print(get_quantity('hold'))\n",
    "except Exception as e:\n",
    "    print(e)"
   ]
  },
  {
   "cell_type": "code",
   "execution_count": null,
   "id": "d11fa003-48cc-472f-ae6b-840b40ffe752",
   "metadata": {},
   "outputs": [],
   "source": []
  }
 ],
 "metadata": {
  "kernelspec": {
   "display_name": "Python [conda env:base] *",
   "language": "python",
   "name": "conda-base-py"
  },
  "language_info": {
   "codemirror_mode": {
    "name": "ipython",
    "version": 3
   },
   "file_extension": ".py",
   "mimetype": "text/x-python",
   "name": "python",
   "nbconvert_exporter": "python",
   "pygments_lexer": "ipython3",
   "version": "3.13.5"
  }
 },
 "nbformat": 4,
 "nbformat_minor": 5
}
