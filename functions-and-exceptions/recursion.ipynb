{
 "cells": [
  {
   "cell_type": "code",
   "execution_count": 3,
   "id": "03902e2a-4a42-4e73-851c-ecd9124106fc",
   "metadata": {},
   "outputs": [
    {
     "name": "stdout",
     "output_type": "stream",
     "text": [
      "6\n",
      "120\n"
     ]
    }
   ],
   "source": [
    "# factorial - iterative\n",
    "def calculate_factorial(num):\n",
    "    factorial = 1\n",
    "    \n",
    "    for i in range(1, num + 1):\n",
    "        factorial *= i\n",
    "\n",
    "    return factorial\n",
    "\n",
    "print(calculate_factorial(3))    \n",
    "print(calculate_factorial(5))"
   ]
  },
  {
   "cell_type": "code",
   "execution_count": 6,
   "id": "620c34be-c50c-4b42-a0ea-56d89f8cf0c1",
   "metadata": {},
   "outputs": [
    {
     "name": "stdout",
     "output_type": "stream",
     "text": [
      "6\n",
      "120\n"
     ]
    }
   ],
   "source": [
    "# factorial - recursive\n",
    "def calculate_factorial_recursive(num):\n",
    "    if num == 1:\n",
    "        return 1\n",
    "    \n",
    "    return num * calculate_factorial_recursive(num - 1)\n",
    "\n",
    "print(calculate_factorial_recursive(3))    \n",
    "print(calculate_factorial_recursive(5))"
   ]
  },
  {
   "cell_type": "code",
   "execution_count": null,
   "id": "dce84294-3894-49f9-a24e-ea6401f0fe1c",
   "metadata": {},
   "outputs": [],
   "source": []
  }
 ],
 "metadata": {
  "kernelspec": {
   "display_name": "Python [conda env:base] *",
   "language": "python",
   "name": "conda-base-py"
  },
  "language_info": {
   "codemirror_mode": {
    "name": "ipython",
    "version": 3
   },
   "file_extension": ".py",
   "mimetype": "text/x-python",
   "name": "python",
   "nbconvert_exporter": "python",
   "pygments_lexer": "ipython3",
   "version": "3.13.5"
  }
 },
 "nbformat": 4,
 "nbformat_minor": 5
}
