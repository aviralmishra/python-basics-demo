{
 "cells": [
  {
   "cell_type": "code",
   "execution_count": 7,
   "id": "3d0db911-2ffb-42df-af14-0196dbf5c848",
   "metadata": {},
   "outputs": [
    {
     "name": "stdin",
     "output_type": "stream",
     "text": [
      "Please provide a number to get the inverse: 0\n"
     ]
    },
    {
     "ename": "AssertionError",
     "evalue": "The input 0 is not expected.",
     "output_type": "error",
     "traceback": [
      "\u001b[0;31m---------------------------------------------------------------------------\u001b[0m",
      "\u001b[0;31mAssertionError\u001b[0m                            Traceback (most recent call last)",
      "Cell \u001b[0;32mIn[7], line 15\u001b[0m\n\u001b[1;32m     12\u001b[0m     \u001b[38;5;28;01mexcept\u001b[39;00m \u001b[38;5;167;01mValueError\u001b[39;00m:\n\u001b[1;32m     13\u001b[0m         \u001b[38;5;28mprint\u001b[39m(\u001b[38;5;124m'\u001b[39m\u001b[38;5;124mThe input is not expected.\u001b[39m\u001b[38;5;124m'\u001b[39m)   \n\u001b[0;32m---> 15\u001b[0m inverse_input()\n",
      "Cell \u001b[0;32mIn[7], line 11\u001b[0m, in \u001b[0;36minverse_input\u001b[0;34m()\u001b[0m\n\u001b[1;32m      9\u001b[0m \u001b[38;5;28;01mtry\u001b[39;00m:\n\u001b[1;32m     10\u001b[0m     in_num \u001b[38;5;241m=\u001b[39m \u001b[38;5;28mint\u001b[39m(\u001b[38;5;28minput\u001b[39m(\u001b[38;5;124m'\u001b[39m\u001b[38;5;124mPlease provide a number to get the inverse:\u001b[39m\u001b[38;5;124m'\u001b[39m))\n\u001b[0;32m---> 11\u001b[0m     \u001b[38;5;28mprint\u001b[39m(\u001b[38;5;124m'\u001b[39m\u001b[38;5;124mThe inverse of\u001b[39m\u001b[38;5;124m'\u001b[39m, in_num, \u001b[38;5;124m'\u001b[39m\u001b[38;5;124mis\u001b[39m\u001b[38;5;124m'\u001b[39m, inverse(in_num))\n\u001b[1;32m     12\u001b[0m \u001b[38;5;28;01mexcept\u001b[39;00m \u001b[38;5;167;01mValueError\u001b[39;00m:\n\u001b[1;32m     13\u001b[0m     \u001b[38;5;28mprint\u001b[39m(\u001b[38;5;124m'\u001b[39m\u001b[38;5;124mThe input is not expected.\u001b[39m\u001b[38;5;124m'\u001b[39m)\n",
      "Cell \u001b[0;32mIn[7], line 5\u001b[0m, in \u001b[0;36minverse\u001b[0;34m(num)\u001b[0m\n\u001b[1;32m      4\u001b[0m \u001b[38;5;28;01mdef\u001b[39;00m\u001b[38;5;250m \u001b[39m\u001b[38;5;21minverse\u001b[39m(num):\n\u001b[0;32m----> 5\u001b[0m     \u001b[38;5;28;01massert\u001b[39;00m(num \u001b[38;5;241m!=\u001b[39m \u001b[38;5;241m0\u001b[39m), \u001b[38;5;124m'\u001b[39m\u001b[38;5;124mThe input 0 is not expected.\u001b[39m\u001b[38;5;124m'\u001b[39m\n\u001b[1;32m      6\u001b[0m     \u001b[38;5;28;01mreturn\u001b[39;00m \u001b[38;5;241m1\u001b[39m \u001b[38;5;241m/\u001b[39m num\n",
      "\u001b[0;31mAssertionError\u001b[0m: The input 0 is not expected."
     ]
    }
   ],
   "source": [
    "# assertions\n",
    "# do not use assertions for input validation as they can be turned off.\n",
    "\n",
    "def inverse(num):\n",
    "    assert(num != 0), 'The input 0 is not expected.'\n",
    "    return 1 / num\n",
    "\n",
    "def inverse_input():\n",
    "    try:\n",
    "        in_num = int(input('Please provide a number to get the inverse:'))\n",
    "        print('The inverse of', in_num, 'is', inverse(in_num))\n",
    "    except ValueError:\n",
    "        print('The input is not expected.')   \n",
    "\n",
    "inverse_input()        "
   ]
  },
  {
   "cell_type": "code",
   "execution_count": null,
   "id": "4c8f102a-8029-47e6-ade9-72275ef395bd",
   "metadata": {},
   "outputs": [],
   "source": []
  }
 ],
 "metadata": {
  "kernelspec": {
   "display_name": "Python [conda env:base] *",
   "language": "python",
   "name": "conda-base-py"
  },
  "language_info": {
   "codemirror_mode": {
    "name": "ipython",
    "version": 3
   },
   "file_extension": ".py",
   "mimetype": "text/x-python",
   "name": "python",
   "nbconvert_exporter": "python",
   "pygments_lexer": "ipython3",
   "version": "3.13.5"
  }
 },
 "nbformat": 4,
 "nbformat_minor": 5
}
