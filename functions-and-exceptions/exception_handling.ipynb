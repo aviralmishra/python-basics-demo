{
 "cells": [
  {
   "cell_type": "code",
   "execution_count": null,
   "id": "da27ba80-42f8-4373-8d62-54100fb5cefc",
   "metadata": {},
   "outputs": [],
   "source": [
    "int num = int(input('Please provide a number to get the inverse:'))\n",
    "\n",
    "try:\n",
    "    print('The inverse of', num, 'is', 1 / num)\n",
    "except:\n",
    "    print('The input was not suitable for inverse calculation. Please provide a number.')"
   ]
  }
 ],
 "metadata": {
  "kernelspec": {
   "display_name": "Python [conda env:base] *",
   "language": "python",
   "name": "conda-base-py"
  },
  "language_info": {
   "codemirror_mode": {
    "name": "ipython",
    "version": 3
   },
   "file_extension": ".py",
   "mimetype": "text/x-python",
   "name": "python",
   "nbconvert_exporter": "python",
   "pygments_lexer": "ipython3",
   "version": "3.13.5"
  }
 },
 "nbformat": 4,
 "nbformat_minor": 5
}
