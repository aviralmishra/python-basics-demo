{
 "cells": [
  {
   "cell_type": "code",
   "execution_count": 5,
   "id": "da27ba80-42f8-4373-8d62-54100fb5cefc",
   "metadata": {},
   "outputs": [
    {
     "name": "stdin",
     "output_type": "stream",
     "text": [
      "Please provide a number to get the inverse: e\n"
     ]
    },
    {
     "name": "stdout",
     "output_type": "stream",
     "text": [
      "The input was not suitable for inverse calculation. Please provide a non-zero number.\n"
     ]
    }
   ],
   "source": [
    "try:\n",
    "    num = int(input('Please provide a number to get the inverse:'))\n",
    "    print('The inverse of', num, 'is', 1 / num)\n",
    "except:\n",
    "    print('The input was not suitable for inverse calculation. Please provide a non-zero number.')"
   ]
  },
  {
   "cell_type": "code",
   "execution_count": null,
   "id": "3d0db911-2ffb-42df-af14-0196dbf5c848",
   "metadata": {},
   "outputs": [],
   "source": []
  }
 ],
 "metadata": {
  "kernelspec": {
   "display_name": "Python [conda env:base] *",
   "language": "python",
   "name": "conda-base-py"
  },
  "language_info": {
   "codemirror_mode": {
    "name": "ipython",
    "version": 3
   },
   "file_extension": ".py",
   "mimetype": "text/x-python",
   "name": "python",
   "nbconvert_exporter": "python",
   "pygments_lexer": "ipython3",
   "version": "3.13.5"
  }
 },
 "nbformat": 4,
 "nbformat_minor": 5
}
