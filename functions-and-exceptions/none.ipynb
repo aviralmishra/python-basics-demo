{
 "cells": [
  {
   "cell_type": "code",
   "execution_count": 2,
   "id": "1fa844cf-a16e-4261-81e2-1096d9cbaa13",
   "metadata": {},
   "outputs": [
    {
     "name": "stdout",
     "output_type": "stream",
     "text": [
      "None is equal to None, nothing else.\n",
      "None is None, nothing else.\n"
     ]
    }
   ],
   "source": [
    "some_var = None\n",
    "\n",
    "if some_var == 0:\n",
    "    print('None is 0')\n",
    "\n",
    "if some_var == 0.0:\n",
    "    print('None is 0.0')    \n",
    "\n",
    "if some_var == False:\n",
    "    print('None is False')        \n",
    "\n",
    "if some_var == None:\n",
    "    print('None is equal to None, nothing else.')\n",
    "\n",
    "if some_var is None:\n",
    "    print('None is None, nothing else.')    "
   ]
  },
  {
   "cell_type": "code",
   "execution_count": 5,
   "id": "acbddf20-f614-4e2b-9fc9-d5278ae49356",
   "metadata": {},
   "outputs": [
    {
     "name": "stdout",
     "output_type": "stream",
     "text": [
      "Hello None!\n",
      "None\n"
     ]
    }
   ],
   "source": [
    "print(print('Hello None!'))"
   ]
  },
  {
   "cell_type": "code",
   "execution_count": null,
   "id": "c023c1aa-6587-4e31-83a5-6e5b49252f3c",
   "metadata": {},
   "outputs": [],
   "source": []
  }
 ],
 "metadata": {
  "kernelspec": {
   "display_name": "Python [conda env:base] *",
   "language": "python",
   "name": "conda-base-py"
  },
  "language_info": {
   "codemirror_mode": {
    "name": "ipython",
    "version": 3
   },
   "file_extension": ".py",
   "mimetype": "text/x-python",
   "name": "python",
   "nbconvert_exporter": "python",
   "pygments_lexer": "ipython3",
   "version": "3.13.5"
  }
 },
 "nbformat": 4,
 "nbformat_minor": 5
}
