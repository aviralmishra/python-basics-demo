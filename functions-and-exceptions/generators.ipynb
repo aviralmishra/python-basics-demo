{
 "cells": [
  {
   "cell_type": "code",
   "execution_count": 1,
   "id": "0b6f67a4-c1e6-4c38-bd01-0f4cc7be6d4f",
   "metadata": {},
   "outputs": [],
   "source": [
    "# generator - an interator that yields values as next is called\n",
    "\n",
    "def number_generator():\n",
    "    for i in range(1, 5):\n",
    "        yield i        "
   ]
  },
  {
   "cell_type": "code",
   "execution_count": 2,
   "id": "736245b4-409a-4f24-bcf7-336a2eba9a95",
   "metadata": {},
   "outputs": [
    {
     "data": {
      "text/plain": [
       "<generator object number_generator at 0x10a4e20c0>"
      ]
     },
     "execution_count": 2,
     "metadata": {},
     "output_type": "execute_result"
    }
   ],
   "source": [
    "number_generator()"
   ]
  },
  {
   "cell_type": "code",
   "execution_count": 10,
   "id": "db096591-a224-47c9-b695-c854dec1e03c",
   "metadata": {},
   "outputs": [
    {
     "name": "stdout",
     "output_type": "stream",
     "text": [
      "1\n",
      "2\n",
      "3\n",
      "4\n"
     ]
    }
   ],
   "source": [
    "generator = number_generator()\n",
    "\n",
    "print(next(generator))\n",
    "print(next(generator))\n",
    "print(next(generator))\n",
    "print(next(generator))"
   ]
  },
  {
   "cell_type": "code",
   "execution_count": 11,
   "id": "46a049ac-dcaa-43da-b8a6-28830abf8316",
   "metadata": {},
   "outputs": [
    {
     "name": "stdout",
     "output_type": "stream",
     "text": [
      "the latest value is 1\n",
      "the latest value is 2\n",
      "the latest value is 3\n",
      "the latest value is 4\n"
     ]
    }
   ],
   "source": [
    "# generator as loop iterator\n",
    "\n",
    "for i in number_generator():\n",
    "    print('the latest value is', i)"
   ]
  },
  {
   "cell_type": "code",
   "execution_count": 14,
   "id": "9d93fe3b-288d-4bff-a21d-35cd66d203d9",
   "metadata": {},
   "outputs": [
    {
     "name": "stdout",
     "output_type": "stream",
     "text": [
      "[1, 2, 3, 4]\n"
     ]
    }
   ],
   "source": [
    "# generator to list\n",
    "\n",
    "numbers = list(number_generator())\n",
    "print(numbers)"
   ]
  },
  {
   "cell_type": "code",
   "execution_count": null,
   "id": "da27ba80-42f8-4373-8d62-54100fb5cefc",
   "metadata": {},
   "outputs": [],
   "source": []
  }
 ],
 "metadata": {
  "kernelspec": {
   "display_name": "Python [conda env:base] *",
   "language": "python",
   "name": "conda-base-py"
  },
  "language_info": {
   "codemirror_mode": {
    "name": "ipython",
    "version": 3
   },
   "file_extension": ".py",
   "mimetype": "text/x-python",
   "name": "python",
   "nbconvert_exporter": "python",
   "pygments_lexer": "ipython3",
   "version": "3.13.5"
  }
 },
 "nbformat": 4,
 "nbformat_minor": 5
}
